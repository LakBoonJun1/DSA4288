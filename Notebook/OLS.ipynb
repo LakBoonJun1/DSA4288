{
 "cells": [
  {
   "cell_type": "markdown",
   "metadata": {},
   "source": [
    "# Importing of packages"
   ]
  },
  {
   "cell_type": "code",
   "execution_count": 52,
   "metadata": {},
   "outputs": [],
   "source": [
    "#packages\n",
    "import numpy as np\n",
    "import pandas as pd\n",
    "import time\n",
    "import seaborn as sns\n",
    "import matplotlib.pyplot as plt\n",
    "from scipy.linalg import qr\n",
    "from scipy.sparse import csr_matrix\n",
    "from sklearn.preprocessing import StandardScaler, OneHotEncoder\n",
    "from sklearn.compose import ColumnTransformer\n",
    "from sklearn.pipeline import Pipeline\n",
    "from sklearn.model_selection import train_test_split\n",
    "from sklearn.linear_model import LinearRegression\n",
    "from sklearn.metrics import mean_squared_error, r2_score\n",
    "from sklearn.linear_model import Ridge"
   ]
  },
  {
   "cell_type": "markdown",
   "metadata": {},
   "source": [
    "# Functions"
   ]
  },
  {
   "cell_type": "markdown",
   "metadata": {},
   "source": [
    "### Sketching function"
   ]
  },
  {
   "cell_type": "code",
   "execution_count": 56,
   "metadata": {},
   "outputs": [],
   "source": [
    "def sketch_matrix(m, n_columns, non_zero_entries):\n",
    "    #matrix with all zero entries\n",
    "    S = np.zeros((m, n_columns))\n",
    "    scaling_factor = 1 / np.sqrt(non_zero_entries)\n",
    "    \n",
    "    #loop through each columns to edit the non zero entries in\n",
    "    for col in range(n_columns):\n",
    "        # Randomly select position of non_zero entries\n",
    "        nz_positions = np.random.choice(m, non_zero_entries, replace=False)\n",
    "        \n",
    "        # Randomly assign values of either 1 or -1 to these positions\n",
    "        values = np.random.choice([1, -1], non_zero_entries)* scaling_factor\n",
    "        \n",
    "        # Assign the values to the selected positions in the column\n",
    "        for idx, value in zip(nz_positions, values):\n",
    "            S[idx, col] = value\n",
    "    \n",
    "    return S"
   ]
  },
  {
   "cell_type": "markdown",
   "metadata": {},
   "source": [
    "### Compute min max svd to be used for analysis"
   ]
  },
  {
   "cell_type": "code",
   "execution_count": 57,
   "metadata": {},
   "outputs": [],
   "source": [
    "def compute_min_max_svd(matrix):\n",
    "    # SVD computation only keep the singular values\n",
    "    _, s, _ = np.linalg.svd(matrix, full_matrices=False)\n",
    "    return np.min(s), np.max(s)"
   ]
  },
  {
   "cell_type": "markdown",
   "metadata": {},
   "source": [
    "### Sketched least squares"
   ]
  },
  {
   "cell_type": "code",
   "execution_count": 232,
   "metadata": {},
   "outputs": [],
   "source": [
    "#Higher leverage scores indicate more influential data points.\n",
    "def estimate_leverage_scores(A, R, gamma):\n",
    "    \"\"\"Estimate leverage scores ˜li for each row using matrix R (similar to Lemma 5.1).\"\"\"\n",
    "    n, d = A.shape\n",
    "    k = int(np.ceil(d / gamma))  # Choose k based on γ\n",
    "    G = np.random.randn(d, k) / np.sqrt(k) #scale the matrix\n",
    "    ARG = A @ (R @ G)\n",
    "    leverage_scores = np.sum(ARG ** 2, axis=1)\n",
    "    \n",
    "    return leverage_scores\n",
    "\n",
    "def fast_least_squares_sgd(A, b, non_zero_entries, m, T=100, eta=0.01, gamma=0.1, batch_size=10):\n",
    "    \"\"\"\n",
    "    Parameters:\n",
    "    - A: Data\n",
    "    - b: label\n",
    "    - T: Number of SGD iterations.\n",
    "    - eta: Learning rate.\n",
    "    - gamma: Approximation parameter for leverage score estimation.\n",
    "    - batch_size: Number of rows sampled per SGD iteration.\n",
    "    \n",
    "    Returns:\n",
    "    - x: (d,) NumPy array, the estimated least squares solution.\n",
    "    \"\"\"\n",
    "    n, d = A.shape\n",
    "    \n",
    "    # Step 1: Generate the sketch matrix S using the sketch_matrix function\n",
    "    S = sketch_matrix(m, n, non_zero_entries)\n",
    "    # Step 2: Compute SA and Sb\n",
    "    SA = S @ A\n",
    "    Sb = S @ b\n",
    "    min_svd, max_svd = compute_min_max_svd(SA)\n",
    "\n",
    "    # Step 3: Compute QR decomposition of SA\n",
    "    Q, R_inv = np.linalg.qr(SA)\n",
    "    R = np.linalg.inv(R_inv)\n",
    "\n",
    "    # Step 4: Compute leverage score estimates\n",
    "    leverage_scores = estimate_leverage_scores(A, R, gamma)\n",
    "    leverage_probs = leverage_scores / np.sum(leverage_scores)  # Normalize\n",
    "\n",
    "    # Step 5: Compute initial x0 by solving (SAx = Sb)\n",
    "    x = np.linalg.lstsq(SA, Sb, rcond=None)[0]\n",
    "\n",
    "    # Step 6: Perform mini-batch SGD\n",
    "    for t in range(T):\n",
    "        # Step 6.1: Sample batch indices based on leverage scores\n",
    "        batch_indices = np.random.choice(n, size=batch_size, p=leverage_probs)\n",
    "        \n",
    "        # Step 6.2: Construct StA and Stb for mini-batch\n",
    "        StA = A[batch_indices]\n",
    "        Stb = b[batch_indices]\n",
    "\n",
    "        # Step 6.3: Compute gradient of the least squares loss\n",
    "        gt = 2 * StA.T @ (StA @ x - Stb)\n",
    "\n",
    "        # Step 6.4: Update x using preconditioned gradient\n",
    "        x = x - eta * R @ (R.T @ gt)\n",
    "\n",
    "    return x , min_svd , max_svd"
   ]
  },
  {
   "cell_type": "markdown",
   "metadata": {},
   "source": [
    "## Sketched least square accounting for intercept"
   ]
  },
  {
   "cell_type": "code",
   "execution_count": 233,
   "metadata": {},
   "outputs": [],
   "source": [
    "def fast_least_squares_sgd_with_intercept(A, b, non_zero_entries, m, T=100, eta=0.01, gamma=0.1, batch_size=10):\n",
    "    \"\"\"\n",
    "    Parameters:\n",
    "    - A: Data\n",
    "    - b: label\n",
    "    - T: Number of SGD iterations.\n",
    "    - eta: Learning rate.\n",
    "    - gamma: Approximation parameter for leverage score estimation.\n",
    "    - batch_size: Number of rows sampled per SGD iteration.\n",
    "    \n",
    "    Returns:\n",
    "    - x: (d,) NumPy array, the estimated least squares solution.\n",
    "    \"\"\"\n",
    "    n, d = A.shape\n",
    "    A = np.c_[np.ones(n), A] #for intercept\n",
    "    \n",
    "    # Step 1: Generate the sketch matrix S using the sketch_matrix function\n",
    "    S = sketch_matrix(m, n, non_zero_entries)\n",
    "    # Step 2: Compute SA and Sb\n",
    "    SA = S @ A\n",
    "    Sb = S @ b\n",
    "    min_svd, max_svd = compute_min_max_svd(SA)\n",
    "\n",
    "    # Step 3: Compute QR decomposition of SA\n",
    "    Q, R_inv = np.linalg.qr(SA)\n",
    "    R = np.linalg.inv(R_inv)\n",
    "\n",
    "    # Step 4: Compute leverage score estimates\n",
    "    leverage_scores = estimate_leverage_scores(A, R, gamma)\n",
    "    leverage_probs = leverage_scores / np.sum(leverage_scores)  # Normalize\n",
    "\n",
    "    # Step 5: Compute initial x0 by solving (SAx = Sb)\n",
    "    x = np.linalg.lstsq(SA, Sb, rcond=None)[0]\n",
    "\n",
    "    # Step 6: Perform mini-batch SGD\n",
    "    for t in range(T):\n",
    "        # Step 6.1: Sample batch indices based on leverage scores\n",
    "        batch_indices = np.random.choice(n, size=batch_size, p=leverage_probs)\n",
    "        \n",
    "        # Step 6.2: Construct StA and Stb for mini-batch\n",
    "        StA = A[batch_indices]\n",
    "        Stb = b[batch_indices]\n",
    "\n",
    "        # Step 6.3: Compute gradient of the least squares loss\n",
    "        gt = 2 * StA.T @ (StA @ x - Stb)\n",
    "\n",
    "        # Step 6.4: Update x using preconditioned gradient\n",
    "        x = x - eta * R @ (R.T @ gt)\n",
    "\n",
    "    return x[1:],x[0], min_svd , max_svd"
   ]
  },
  {
   "cell_type": "markdown",
   "metadata": {},
   "source": [
    "## Regularized sketching function accounting for intercept"
   ]
  },
  {
   "cell_type": "code",
   "execution_count": 234,
   "metadata": {},
   "outputs": [],
   "source": [
    "def compute_effective_dimension(A, lambda_reg):\n",
    "    \"\"\"Computes the lambda-effective dimension d_lambda.\"\"\"\n",
    "    d = A.shape[1]\n",
    "    I = np.eye(d)\n",
    "    return np.trace(A.T @ A @ np.linalg.inv(A.T @ A + lambda_reg * I))\n",
    "\n",
    "def fast_least_squares_sgd_regularized_with_intercept(A, b, non_zero_entries, m, lambda_reg, T=100, eta=0.01, gamma=0.1, batch_size=10):\n",
    "    \"\"\"\n",
    "    Implements fast least squares using mini-batch SGD with scaled regularization.\n",
    "\n",
    "    Parameters:\n",
    "    - A: (n, d) NumPy array (design matrix).\n",
    "    - b: (n,) NumPy array (target vector).\n",
    "    - lambda_reg: Regularization parameter λ.\n",
    "    - m: Sketching matrix size.\n",
    "    \n",
    "    Returns:\n",
    "    - x: (d,) NumPy array (estimated solution).\n",
    "    \"\"\"\n",
    "   \n",
    "    n, d = A.shape\n",
    "    A = np.c_[np.ones(n), A] #for intercept \n",
    "    d += 1\n",
    "\n",
    "    # Step 1: Compute effective dimension and scaled regularization λ'\n",
    "    d_lambda = compute_effective_dimension(A, lambda_reg)\n",
    "    lambda_scaled = lambda_reg * (1 - d_lambda / m)\n",
    "\n",
    "    # Step 2: Generate sketch matrix\n",
    "    S = sketch_matrix(m, n, non_zero_entries)\n",
    "    \n",
    "    # Step 3: Compute SA and Sb\n",
    "    SA = S @ A\n",
    "    Sb = S @ b\n",
    "    min_svd, max_svd = compute_min_max_svd(SA)\n",
    "\n",
    "    # Step 4: Compute QR decomposition of SA\n",
    "    Q, R_inv = np.linalg.qr(SA)\n",
    "    R = np.linalg.inv(R_inv)\n",
    "\n",
    "    # Step 5: Compute leverage scores\n",
    "    leverage_scores = estimate_leverage_scores(A, R, gamma)\n",
    "    leverage_probs = leverage_scores / np.sum(leverage_scores)  # Normalize\n",
    "\n",
    "    # Step 6: Solve for initial x0 using regularized least squares\n",
    "    I_d = np.eye(d)\n",
    "    x = np.linalg.solve(SA.T @ SA + lambda_scaled * I_d, SA.T @ Sb)\n",
    "\n",
    "    # Step 7: Perform mini-batch SGD\n",
    "    for t in range(T):\n",
    "        # Sample batch indices based on leverage scores\n",
    "        batch_indices = np.random.choice(n, size=batch_size, p=leverage_probs)\n",
    "        \n",
    "        # Construct StA and Stb for mini-batch\n",
    "        StA = A[batch_indices]\n",
    "        Stb = b[batch_indices]\n",
    "\n",
    "        # Compute gradient with regularization\n",
    "        gt = 2 * (StA.T @ (StA @ x - Stb) + lambda_scaled * x)\n",
    "\n",
    "        # Update x using preconditioned gradient\n",
    "        x = x - eta * R @ (R.T @ gt)\n",
    "\n",
    "    return x[1:],x[0] , lambda_scaled, min_svd , max_svd"
   ]
  },
  {
   "cell_type": "markdown",
   "metadata": {},
   "source": [
    "# Comparing sketch and non sketch method on synthetic dataset"
   ]
  },
  {
   "cell_type": "markdown",
   "metadata": {},
   "source": [
    "## Initialise synthetic data"
   ]
  },
  {
   "cell_type": "code",
   "execution_count": 61,
   "metadata": {},
   "outputs": [],
   "source": [
    "#Feature matrix\n",
    "n = 10000\n",
    "d = 100\n",
    "X = np.random.randn(n, d) #dimension 10000 x 100 (n x d)\n",
    "\n",
    "#True coefficients\n",
    "true_x_coefficient = np.random.randn(d)\n",
    "\n",
    "#target vector\n",
    "y = X @ true_x_coefficient + np.random.randn(n) * 0.1 # noise level"
   ]
  },
  {
   "cell_type": "markdown",
   "metadata": {},
   "source": [
    "### Regular OLS"
   ]
  },
  {
   "cell_type": "code",
   "execution_count": 62,
   "metadata": {},
   "outputs": [],
   "source": [
    "ols_model = LinearRegression().fit(X,y)\n",
    "ols_coeff = ols_model.coef_\n",
    "y_pred_ols = X @ ols_coeff"
   ]
  },
  {
   "cell_type": "markdown",
   "metadata": {},
   "source": [
    "### Sketched OLS"
   ]
  },
  {
   "cell_type": "code",
   "execution_count": 63,
   "metadata": {},
   "outputs": [],
   "source": [
    "non_zero_entries = 10 # < m\n",
    "m = 2000 # m << n \n",
    "sketched_ols_coeff, _, _ = fast_least_squares_sgd(X, y, non_zero_entries, m)\n",
    "y_pred_sketched_ols = X @ sketched_ols_coeff"
   ]
  },
  {
   "cell_type": "markdown",
   "metadata": {},
   "source": [
    "## Comparing distance between coefficients between sketched and non sketched"
   ]
  },
  {
   "cell_type": "markdown",
   "metadata": {},
   "source": [
    "### non sketched"
   ]
  },
  {
   "cell_type": "code",
   "execution_count": 68,
   "metadata": {},
   "outputs": [
    {
     "name": "stdout",
     "output_type": "stream",
     "text": [
      "Distance is 0.010279880902844611\n",
      "Relative distance is 0.001059143445535867\n"
     ]
    }
   ],
   "source": [
    "l2_norm = np.linalg.norm(true_x_coefficient - ols_coeff)\n",
    "print(f\"Distance is {l2_norm}\")\n",
    "\n",
    "relative_distance = l2_norm/np.linalg.norm(true_x_coefficient)\n",
    "print(f\"Relative distance is {relative_distance}\")"
   ]
  },
  {
   "cell_type": "markdown",
   "metadata": {},
   "source": [
    "### sketched"
   ]
  },
  {
   "cell_type": "code",
   "execution_count": 72,
   "metadata": {},
   "outputs": [
    {
     "name": "stdout",
     "output_type": "stream",
     "text": [
      "Distance is 0.021320926578698343\n",
      "Relative distance is 0.0021967102393502455\n"
     ]
    }
   ],
   "source": [
    "l2_norm = np.linalg.norm(true_x_coefficient - sketched_ols_coeff)\n",
    "print(f\"Distance is {l2_norm}\")\n",
    "\n",
    "relative_distance = l2_norm/np.linalg.norm(true_x_coefficient)\n",
    "print(f\"Relative distance is {relative_distance}\")"
   ]
  },
  {
   "cell_type": "markdown",
   "metadata": {},
   "source": [
    "Distance and relative distance both small, suggesting that sketching method is decently accurate"
   ]
  },
  {
   "cell_type": "markdown",
   "metadata": {},
   "source": [
    "## Comparing MSE of sketched vs non sketched"
   ]
  },
  {
   "cell_type": "code",
   "execution_count": 73,
   "metadata": {},
   "outputs": [
    {
     "name": "stdout",
     "output_type": "stream",
     "text": [
      "MSE of non sketch ols is 0.00989142357218728\n",
      "MSE of sketched ols is 0.010305882909319044\n"
     ]
    }
   ],
   "source": [
    "mse_ols = np.mean((y - y_pred_ols)**2)\n",
    "print(f\"MSE of non sketch ols is {mse_ols}\")\n",
    "\n",
    "mse_sketched_ols = np.mean((y - y_pred_sketched_ols)**2)\n",
    "print(f\"MSE of sketched ols is {mse_sketched_ols}\")"
   ]
  },
  {
   "cell_type": "markdown",
   "metadata": {},
   "source": [
    "Similar mse suggests that sketching method is almost as accurate as non sketching method"
   ]
  },
  {
   "cell_type": "markdown",
   "metadata": {},
   "source": [
    "# Effects of sparsity and row(m) of sketching matrix"
   ]
  },
  {
   "cell_type": "markdown",
   "metadata": {},
   "source": [
    "## Initialise dataset"
   ]
  },
  {
   "cell_type": "code",
   "execution_count": 146,
   "metadata": {},
   "outputs": [],
   "source": [
    "#Feature matrix\n",
    "n = 10000\n",
    "d = 100\n",
    "X = np.random.randn(n, d) #dimension 10000 x 100 (n x d)\n",
    "\n",
    "#True coefficients\n",
    "true_x_coefficient = np.random.randn(d)\n",
    "\n",
    "#target vector\n",
    "y = X @ true_x_coefficient + np.random.randn(n) * 0.1 # noise level"
   ]
  },
  {
   "cell_type": "markdown",
   "metadata": {},
   "source": [
    "## m against mse and sketching error"
   ]
  },
  {
   "cell_type": "markdown",
   "metadata": {},
   "source": [
    "### Initialise parameters"
   ]
  },
  {
   "cell_type": "code",
   "execution_count": 147,
   "metadata": {},
   "outputs": [],
   "source": [
    "# Define parameters\n",
    "m_values = list(range(100,n + 1, 100))  # Different sketch sizes, varying m\n",
    "non_zero_entries = 10"
   ]
  },
  {
   "cell_type": "code",
   "execution_count": 100,
   "metadata": {},
   "outputs": [],
   "source": [
    "results = []\n",
    "for m in m_values:\n",
    "    # Compute estimated x\n",
    "    x_estimated ,min_svd, max_svd  = fast_least_squares_sgd(X, y, non_zero_entries,m)\n",
    "    mse = np.mean((X @ x_estimated - y) ** 2)\n",
    "    # Store results for plotting\n",
    "    results.append({\"m\": m, \"MSE\": mse, \"Sparsity\": non_zero_entries, \"Min_SVD\": min_svd,\"Max_SVD\": max_svd})\n",
    "\n",
    "# Combine all results\n",
    "df_results = pd.DataFrame(results)"
   ]
  },
  {
   "cell_type": "code",
   "execution_count": 103,
   "metadata": {},
   "outputs": [
    {
     "data": {
      "text/html": [
       "<div>\n",
       "<style scoped>\n",
       "    .dataframe tbody tr th:only-of-type {\n",
       "        vertical-align: middle;\n",
       "    }\n",
       "\n",
       "    .dataframe tbody tr th {\n",
       "        vertical-align: top;\n",
       "    }\n",
       "\n",
       "    .dataframe thead th {\n",
       "        text-align: right;\n",
       "    }\n",
       "</style>\n",
       "<table border=\"1\" class=\"dataframe\">\n",
       "  <thead>\n",
       "    <tr style=\"text-align: right;\">\n",
       "      <th></th>\n",
       "      <th>m</th>\n",
       "      <th>MSE</th>\n",
       "      <th>Sparsity</th>\n",
       "      <th>Min_SVD</th>\n",
       "      <th>Max_SVD</th>\n",
       "    </tr>\n",
       "  </thead>\n",
       "  <tbody>\n",
       "    <tr>\n",
       "      <th>0</th>\n",
       "      <td>100</td>\n",
       "      <td>0.052794</td>\n",
       "      <td>10</td>\n",
       "      <td>0.631032</td>\n",
       "      <td>198.021697</td>\n",
       "    </tr>\n",
       "    <tr>\n",
       "      <th>1</th>\n",
       "      <td>200</td>\n",
       "      <td>0.019648</td>\n",
       "      <td>10</td>\n",
       "      <td>31.354196</td>\n",
       "      <td>168.970142</td>\n",
       "    </tr>\n",
       "    <tr>\n",
       "      <th>2</th>\n",
       "      <td>300</td>\n",
       "      <td>0.015694</td>\n",
       "      <td>10</td>\n",
       "      <td>42.517955</td>\n",
       "      <td>157.439719</td>\n",
       "    </tr>\n",
       "    <tr>\n",
       "      <th>3</th>\n",
       "      <td>400</td>\n",
       "      <td>0.012676</td>\n",
       "      <td>10</td>\n",
       "      <td>51.944940</td>\n",
       "      <td>149.300259</td>\n",
       "    </tr>\n",
       "    <tr>\n",
       "      <th>4</th>\n",
       "      <td>500</td>\n",
       "      <td>0.012337</td>\n",
       "      <td>10</td>\n",
       "      <td>54.961578</td>\n",
       "      <td>145.009851</td>\n",
       "    </tr>\n",
       "    <tr>\n",
       "      <th>...</th>\n",
       "      <td>...</td>\n",
       "      <td>...</td>\n",
       "      <td>...</td>\n",
       "      <td>...</td>\n",
       "      <td>...</td>\n",
       "    </tr>\n",
       "    <tr>\n",
       "      <th>95</th>\n",
       "      <td>9600</td>\n",
       "      <td>0.010017</td>\n",
       "      <td>10</td>\n",
       "      <td>86.266181</td>\n",
       "      <td>114.155896</td>\n",
       "    </tr>\n",
       "    <tr>\n",
       "      <th>96</th>\n",
       "      <td>9700</td>\n",
       "      <td>0.010024</td>\n",
       "      <td>10</td>\n",
       "      <td>85.960991</td>\n",
       "      <td>113.907231</td>\n",
       "    </tr>\n",
       "    <tr>\n",
       "      <th>97</th>\n",
       "      <td>9800</td>\n",
       "      <td>0.010009</td>\n",
       "      <td>10</td>\n",
       "      <td>85.971407</td>\n",
       "      <td>113.746482</td>\n",
       "    </tr>\n",
       "    <tr>\n",
       "      <th>98</th>\n",
       "      <td>9900</td>\n",
       "      <td>0.010003</td>\n",
       "      <td>10</td>\n",
       "      <td>86.229375</td>\n",
       "      <td>113.788283</td>\n",
       "    </tr>\n",
       "    <tr>\n",
       "      <th>99</th>\n",
       "      <td>10000</td>\n",
       "      <td>0.009992</td>\n",
       "      <td>10</td>\n",
       "      <td>86.400216</td>\n",
       "      <td>114.580457</td>\n",
       "    </tr>\n",
       "  </tbody>\n",
       "</table>\n",
       "<p>100 rows × 5 columns</p>\n",
       "</div>"
      ],
      "text/plain": [
       "        m       MSE  Sparsity    Min_SVD     Max_SVD\n",
       "0     100  0.052794        10   0.631032  198.021697\n",
       "1     200  0.019648        10  31.354196  168.970142\n",
       "2     300  0.015694        10  42.517955  157.439719\n",
       "3     400  0.012676        10  51.944940  149.300259\n",
       "4     500  0.012337        10  54.961578  145.009851\n",
       "..    ...       ...       ...        ...         ...\n",
       "95   9600  0.010017        10  86.266181  114.155896\n",
       "96   9700  0.010024        10  85.960991  113.907231\n",
       "97   9800  0.010009        10  85.971407  113.746482\n",
       "98   9900  0.010003        10  86.229375  113.788283\n",
       "99  10000  0.009992        10  86.400216  114.580457\n",
       "\n",
       "[100 rows x 5 columns]"
      ]
     },
     "execution_count": 103,
     "metadata": {},
     "output_type": "execute_result"
    }
   ],
   "source": [
    "df_results"
   ]
  },
  {
   "cell_type": "markdown",
   "metadata": {},
   "source": [
    "### Convert to csv file"
   ]
  },
  {
   "cell_type": "code",
   "execution_count": 107,
   "metadata": {},
   "outputs": [],
   "source": [
    "df_results.to_csv('varying_m_dataframe_application.csv', index=False)"
   ]
  },
  {
   "cell_type": "code",
   "execution_count": 106,
   "metadata": {},
   "outputs": [
    {
     "name": "stdout",
     "output_type": "stream",
     "text": [
      "min svd of A is 90.61195127377192\n",
      "max svd of A is 109.84383377981236\n"
     ]
    }
   ],
   "source": [
    "#Original svd of data matrix\n",
    "min_svd_A, max_svd_A = compute_min_max_svd(X)\n",
    "print(f\"min svd of A is {min_svd_A}\")\n",
    "print(f\"max svd of A is {max_svd_A}\")"
   ]
  },
  {
   "cell_type": "markdown",
   "metadata": {},
   "source": [
    "### Calculate min/max svd error and sketching_error/inverse sqaure sketching error"
   ]
  },
  {
   "cell_type": "code",
   "execution_count": 111,
   "metadata": {},
   "outputs": [
    {
     "data": {
      "text/html": [
       "<div>\n",
       "<style scoped>\n",
       "    .dataframe tbody tr th:only-of-type {\n",
       "        vertical-align: middle;\n",
       "    }\n",
       "\n",
       "    .dataframe tbody tr th {\n",
       "        vertical-align: top;\n",
       "    }\n",
       "\n",
       "    .dataframe thead th {\n",
       "        text-align: right;\n",
       "    }\n",
       "</style>\n",
       "<table border=\"1\" class=\"dataframe\">\n",
       "  <thead>\n",
       "    <tr style=\"text-align: right;\">\n",
       "      <th></th>\n",
       "      <th>m</th>\n",
       "      <th>MSE</th>\n",
       "      <th>Sparsity</th>\n",
       "      <th>Min_SVD</th>\n",
       "      <th>Max_SVD</th>\n",
       "      <th>min_svd_error</th>\n",
       "      <th>max_svd_error</th>\n",
       "      <th>sketching_error</th>\n",
       "      <th>inv_squared_sketching_error</th>\n",
       "    </tr>\n",
       "  </thead>\n",
       "  <tbody>\n",
       "    <tr>\n",
       "      <th>0</th>\n",
       "      <td>100</td>\n",
       "      <td>0.052794</td>\n",
       "      <td>10</td>\n",
       "      <td>0.631032</td>\n",
       "      <td>198.021697</td>\n",
       "      <td>0.993036</td>\n",
       "      <td>0.802757</td>\n",
       "      <td>0.993036</td>\n",
       "      <td>1.014075</td>\n",
       "    </tr>\n",
       "    <tr>\n",
       "      <th>1</th>\n",
       "      <td>200</td>\n",
       "      <td>0.019648</td>\n",
       "      <td>10</td>\n",
       "      <td>31.354196</td>\n",
       "      <td>168.970142</td>\n",
       "      <td>0.653973</td>\n",
       "      <td>0.538276</td>\n",
       "      <td>0.653973</td>\n",
       "      <td>2.338194</td>\n",
       "    </tr>\n",
       "    <tr>\n",
       "      <th>2</th>\n",
       "      <td>300</td>\n",
       "      <td>0.015694</td>\n",
       "      <td>10</td>\n",
       "      <td>42.517955</td>\n",
       "      <td>157.439719</td>\n",
       "      <td>0.530769</td>\n",
       "      <td>0.433305</td>\n",
       "      <td>0.530769</td>\n",
       "      <td>3.549680</td>\n",
       "    </tr>\n",
       "    <tr>\n",
       "      <th>3</th>\n",
       "      <td>400</td>\n",
       "      <td>0.012676</td>\n",
       "      <td>10</td>\n",
       "      <td>51.944940</td>\n",
       "      <td>149.300259</td>\n",
       "      <td>0.426732</td>\n",
       "      <td>0.359205</td>\n",
       "      <td>0.426732</td>\n",
       "      <td>5.491484</td>\n",
       "    </tr>\n",
       "    <tr>\n",
       "      <th>4</th>\n",
       "      <td>500</td>\n",
       "      <td>0.012337</td>\n",
       "      <td>10</td>\n",
       "      <td>54.961578</td>\n",
       "      <td>145.009851</td>\n",
       "      <td>0.393440</td>\n",
       "      <td>0.320146</td>\n",
       "      <td>0.393440</td>\n",
       "      <td>6.460153</td>\n",
       "    </tr>\n",
       "    <tr>\n",
       "      <th>...</th>\n",
       "      <td>...</td>\n",
       "      <td>...</td>\n",
       "      <td>...</td>\n",
       "      <td>...</td>\n",
       "      <td>...</td>\n",
       "      <td>...</td>\n",
       "      <td>...</td>\n",
       "      <td>...</td>\n",
       "      <td>...</td>\n",
       "    </tr>\n",
       "    <tr>\n",
       "      <th>95</th>\n",
       "      <td>9600</td>\n",
       "      <td>0.010017</td>\n",
       "      <td>10</td>\n",
       "      <td>86.266181</td>\n",
       "      <td>114.155896</td>\n",
       "      <td>0.047960</td>\n",
       "      <td>0.039256</td>\n",
       "      <td>0.047960</td>\n",
       "      <td>434.747758</td>\n",
       "    </tr>\n",
       "    <tr>\n",
       "      <th>96</th>\n",
       "      <td>9700</td>\n",
       "      <td>0.010024</td>\n",
       "      <td>10</td>\n",
       "      <td>85.960991</td>\n",
       "      <td>113.907231</td>\n",
       "      <td>0.051328</td>\n",
       "      <td>0.036992</td>\n",
       "      <td>0.051328</td>\n",
       "      <td>379.564558</td>\n",
       "    </tr>\n",
       "    <tr>\n",
       "      <th>97</th>\n",
       "      <td>9800</td>\n",
       "      <td>0.010009</td>\n",
       "      <td>10</td>\n",
       "      <td>85.971407</td>\n",
       "      <td>113.746482</td>\n",
       "      <td>0.051213</td>\n",
       "      <td>0.035529</td>\n",
       "      <td>0.051213</td>\n",
       "      <td>381.270443</td>\n",
       "    </tr>\n",
       "    <tr>\n",
       "      <th>98</th>\n",
       "      <td>9900</td>\n",
       "      <td>0.010003</td>\n",
       "      <td>10</td>\n",
       "      <td>86.229375</td>\n",
       "      <td>113.788283</td>\n",
       "      <td>0.048366</td>\n",
       "      <td>0.035910</td>\n",
       "      <td>0.048366</td>\n",
       "      <td>427.476218</td>\n",
       "    </tr>\n",
       "    <tr>\n",
       "      <th>99</th>\n",
       "      <td>10000</td>\n",
       "      <td>0.009992</td>\n",
       "      <td>10</td>\n",
       "      <td>86.400216</td>\n",
       "      <td>114.580457</td>\n",
       "      <td>0.046481</td>\n",
       "      <td>0.043121</td>\n",
       "      <td>0.046481</td>\n",
       "      <td>462.859084</td>\n",
       "    </tr>\n",
       "  </tbody>\n",
       "</table>\n",
       "<p>100 rows × 9 columns</p>\n",
       "</div>"
      ],
      "text/plain": [
       "        m       MSE  Sparsity    Min_SVD     Max_SVD  min_svd_error  \\\n",
       "0     100  0.052794        10   0.631032  198.021697       0.993036   \n",
       "1     200  0.019648        10  31.354196  168.970142       0.653973   \n",
       "2     300  0.015694        10  42.517955  157.439719       0.530769   \n",
       "3     400  0.012676        10  51.944940  149.300259       0.426732   \n",
       "4     500  0.012337        10  54.961578  145.009851       0.393440   \n",
       "..    ...       ...       ...        ...         ...            ...   \n",
       "95   9600  0.010017        10  86.266181  114.155896       0.047960   \n",
       "96   9700  0.010024        10  85.960991  113.907231       0.051328   \n",
       "97   9800  0.010009        10  85.971407  113.746482       0.051213   \n",
       "98   9900  0.010003        10  86.229375  113.788283       0.048366   \n",
       "99  10000  0.009992        10  86.400216  114.580457       0.046481   \n",
       "\n",
       "    max_svd_error  sketching_error  inv_squared_sketching_error  \n",
       "0        0.802757         0.993036                     1.014075  \n",
       "1        0.538276         0.653973                     2.338194  \n",
       "2        0.433305         0.530769                     3.549680  \n",
       "3        0.359205         0.426732                     5.491484  \n",
       "4        0.320146         0.393440                     6.460153  \n",
       "..            ...              ...                          ...  \n",
       "95       0.039256         0.047960                   434.747758  \n",
       "96       0.036992         0.051328                   379.564558  \n",
       "97       0.035529         0.051213                   381.270443  \n",
       "98       0.035910         0.048366                   427.476218  \n",
       "99       0.043121         0.046481                   462.859084  \n",
       "\n",
       "[100 rows x 9 columns]"
      ]
     },
     "execution_count": 111,
     "metadata": {},
     "output_type": "execute_result"
    }
   ],
   "source": [
    "df_results[\"min_svd_error\"] = abs(1- (df_results[\"Min_SVD\"]/min_svd_A))\n",
    "df_results[\"max_svd_error\"] = abs(1- (df_results[\"Max_SVD\"]/max_svd_A))\n",
    "df_results['sketching_error'] = df_results[[\"min_svd_error\", \"max_svd_error\"]].max(axis=1)\n",
    "df_results[\"inv_squared_sketching_error\"] = 1 / (df_results[\"sketching_error\"] ** 2)\n",
    "df_results"
   ]
  },
  {
   "cell_type": "markdown",
   "metadata": {},
   "source": [
    "### Visualiation"
   ]
  },
  {
   "cell_type": "code",
   "execution_count": 112,
   "metadata": {},
   "outputs": [
    {
     "data": {
      "image/png": "[encoded data removed]",
      "text/plain": [
       "<Figure size 1200x600 with 2 Axes>"
      ]
     },
     "metadata": {},
     "output_type": "display_data"
    }
   ],
   "source": [
    "# Plot MSE vs m\n",
    "plt.figure(figsize=(12, 6))\n",
    "\n",
    "plt.subplot(1, 2, 1)\n",
    "plt.plot(df_results[\"m\"], df_results[\"MSE\"], label=\"MSE\", color='blue')\n",
    "plt.xlabel(\"Sketch Size (m)\")\n",
    "plt.ylabel(\"Mean Squared Error (MSE)\")\n",
    "plt.title(\"MSE vs Sketch Size\")\n",
    "plt.grid(True)\n",
    "\n",
    "# Plot Min_SVD_Error and Max_SVD_Error vs m\n",
    "plt.subplot(1, 2, 2)\n",
    "plt.plot(df_results[\"m\"], df_results[\"inv_squared_sketching_error\"], label=\"inv_squared_sketching_error\", color='red')\n",
    "plt.xlabel(\"Sketch Size (m)\")\n",
    "plt.ylabel(\"inv_squared_sketching_error\")\n",
    "plt.title(\"inv_squared_sketching_error vs Sketch Size\")\n",
    "plt.grid(True)\n",
    "plt.legend()\n",
    "\n",
    "plt.tight_layout()\n",
    "plt.show()"
   ]
  },
  {
   "cell_type": "code",
   "execution_count": 113,
   "metadata": {},
   "outputs": [
    {
     "data": {
      "image/png": "[encoded data removed]",
      "text/plain": [
       "<Figure size 640x480 with 1 Axes>"
      ]
     },
     "metadata": {},
     "output_type": "display_data"
    }
   ],
   "source": [
    "plt.plot(df_results[\"m\"], df_results[\"sketching_error\"], label=\"sketching_error\", color='blue')\n",
    "plt.xlabel(\"Sketch Size (m)\")\n",
    "plt.ylabel(\"sketching_error\")\n",
    "plt.title(\"sketching_error\")\n",
    "plt.grid(True)"
   ]
  },
  {
   "cell_type": "markdown",
   "metadata": {},
   "source": [
    "## s against mse and sketching"
   ]
  },
  {
   "cell_type": "code",
   "execution_count": 114,
   "metadata": {},
   "outputs": [],
   "source": [
    "#varying s, elbow\n",
    "m = 2000\n",
    "non_zero_entries_list = list(range(2,m + 1 ,2))\n",
    "# Store results\n",
    "results = []\n",
    "\n",
    "for non_zero_entries in non_zero_entries_list:\n",
    "    # Compute estimated x\n",
    "    x_estimated, min_SVD, max_SVD  = fast_least_squares_sgd(X, y, non_zero_entries,m)\n",
    "    mse = np.mean((X @ x_estimated - y) ** 2)\n",
    "    # Store results for plotting\n",
    "    results.append({\"m\": m, \"MSE\": mse, \"Sparsity\": non_zero_entries, \"Min_SVD\": min_SVD,\"Max_SVD\": max_SVD})\n",
    "\n",
    "# Combine all results\n",
    "df_results = pd.DataFrame(results)"
   ]
  },
  {
   "cell_type": "markdown",
   "metadata": {},
   "source": [
    "### Convert to csv"
   ]
  },
  {
   "cell_type": "code",
   "execution_count": 115,
   "metadata": {},
   "outputs": [],
   "source": [
    "df_results.to_csv('varying_s_data_application.csv', index=False)"
   ]
  },
  {
   "cell_type": "code",
   "execution_count": 116,
   "metadata": {},
   "outputs": [
    {
     "data": {
      "text/html": [
       "<div>\n",
       "<style scoped>\n",
       "    .dataframe tbody tr th:only-of-type {\n",
       "        vertical-align: middle;\n",
       "    }\n",
       "\n",
       "    .dataframe tbody tr th {\n",
       "        vertical-align: top;\n",
       "    }\n",
       "\n",
       "    .dataframe thead th {\n",
       "        text-align: right;\n",
       "    }\n",
       "</style>\n",
       "<table border=\"1\" class=\"dataframe\">\n",
       "  <thead>\n",
       "    <tr style=\"text-align: right;\">\n",
       "      <th></th>\n",
       "      <th>m</th>\n",
       "      <th>MSE</th>\n",
       "      <th>Sparsity</th>\n",
       "      <th>Min_SVD</th>\n",
       "      <th>Max_SVD</th>\n",
       "    </tr>\n",
       "  </thead>\n",
       "  <tbody>\n",
       "    <tr>\n",
       "      <th>0</th>\n",
       "      <td>2000</td>\n",
       "      <td>0.010330</td>\n",
       "      <td>2</td>\n",
       "      <td>76.967510</td>\n",
       "      <td>123.322282</td>\n",
       "    </tr>\n",
       "    <tr>\n",
       "      <th>1</th>\n",
       "      <td>2000</td>\n",
       "      <td>0.010487</td>\n",
       "      <td>4</td>\n",
       "      <td>75.143689</td>\n",
       "      <td>124.451920</td>\n",
       "    </tr>\n",
       "    <tr>\n",
       "      <th>2</th>\n",
       "      <td>2000</td>\n",
       "      <td>0.010289</td>\n",
       "      <td>6</td>\n",
       "      <td>77.098177</td>\n",
       "      <td>124.644953</td>\n",
       "    </tr>\n",
       "    <tr>\n",
       "      <th>3</th>\n",
       "      <td>2000</td>\n",
       "      <td>0.010400</td>\n",
       "      <td>8</td>\n",
       "      <td>76.558350</td>\n",
       "      <td>125.820104</td>\n",
       "    </tr>\n",
       "    <tr>\n",
       "      <th>4</th>\n",
       "      <td>2000</td>\n",
       "      <td>0.010414</td>\n",
       "      <td>10</td>\n",
       "      <td>77.192759</td>\n",
       "      <td>123.528333</td>\n",
       "    </tr>\n",
       "    <tr>\n",
       "      <th>...</th>\n",
       "      <td>...</td>\n",
       "      <td>...</td>\n",
       "      <td>...</td>\n",
       "      <td>...</td>\n",
       "      <td>...</td>\n",
       "    </tr>\n",
       "    <tr>\n",
       "      <th>995</th>\n",
       "      <td>2000</td>\n",
       "      <td>0.010416</td>\n",
       "      <td>1992</td>\n",
       "      <td>76.845905</td>\n",
       "      <td>124.548521</td>\n",
       "    </tr>\n",
       "    <tr>\n",
       "      <th>996</th>\n",
       "      <td>2000</td>\n",
       "      <td>0.010286</td>\n",
       "      <td>1994</td>\n",
       "      <td>76.447160</td>\n",
       "      <td>124.362150</td>\n",
       "    </tr>\n",
       "    <tr>\n",
       "      <th>997</th>\n",
       "      <td>2000</td>\n",
       "      <td>0.010488</td>\n",
       "      <td>1996</td>\n",
       "      <td>76.527861</td>\n",
       "      <td>124.672703</td>\n",
       "    </tr>\n",
       "    <tr>\n",
       "      <th>998</th>\n",
       "      <td>2000</td>\n",
       "      <td>0.010409</td>\n",
       "      <td>1998</td>\n",
       "      <td>74.776283</td>\n",
       "      <td>123.648034</td>\n",
       "    </tr>\n",
       "    <tr>\n",
       "      <th>999</th>\n",
       "      <td>2000</td>\n",
       "      <td>0.010437</td>\n",
       "      <td>2000</td>\n",
       "      <td>76.417602</td>\n",
       "      <td>125.804969</td>\n",
       "    </tr>\n",
       "  </tbody>\n",
       "</table>\n",
       "<p>1000 rows × 5 columns</p>\n",
       "</div>"
      ],
      "text/plain": [
       "        m       MSE  Sparsity    Min_SVD     Max_SVD\n",
       "0    2000  0.010330         2  76.967510  123.322282\n",
       "1    2000  0.010487         4  75.143689  124.451920\n",
       "2    2000  0.010289         6  77.098177  124.644953\n",
       "3    2000  0.010400         8  76.558350  125.820104\n",
       "4    2000  0.010414        10  77.192759  123.528333\n",
       "..    ...       ...       ...        ...         ...\n",
       "995  2000  0.010416      1992  76.845905  124.548521\n",
       "996  2000  0.010286      1994  76.447160  124.362150\n",
       "997  2000  0.010488      1996  76.527861  124.672703\n",
       "998  2000  0.010409      1998  74.776283  123.648034\n",
       "999  2000  0.010437      2000  76.417602  125.804969\n",
       "\n",
       "[1000 rows x 5 columns]"
      ]
     },
     "execution_count": 116,
     "metadata": {},
     "output_type": "execute_result"
    }
   ],
   "source": [
    "df_results"
   ]
  },
  {
   "cell_type": "markdown",
   "metadata": {},
   "source": [
    "### Calculate min/max svd error and sketching_error/inverse sqaure sketching error"
   ]
  },
  {
   "cell_type": "code",
   "execution_count": 117,
   "metadata": {},
   "outputs": [
    {
     "data": {
      "text/html": [
       "<div>\n",
       "<style scoped>\n",
       "    .dataframe tbody tr th:only-of-type {\n",
       "        vertical-align: middle;\n",
       "    }\n",
       "\n",
       "    .dataframe tbody tr th {\n",
       "        vertical-align: top;\n",
       "    }\n",
       "\n",
       "    .dataframe thead th {\n",
       "        text-align: right;\n",
       "    }\n",
       "</style>\n",
       "<table border=\"1\" class=\"dataframe\">\n",
       "  <thead>\n",
       "    <tr style=\"text-align: right;\">\n",
       "      <th></th>\n",
       "      <th>m</th>\n",
       "      <th>MSE</th>\n",
       "      <th>Sparsity</th>\n",
       "      <th>Min_SVD</th>\n",
       "      <th>Max_SVD</th>\n",
       "      <th>min_svd_error</th>\n",
       "      <th>max_svd_error</th>\n",
       "      <th>sketching_error</th>\n",
       "      <th>inv_squared_sketching_error</th>\n",
       "    </tr>\n",
       "  </thead>\n",
       "  <tbody>\n",
       "    <tr>\n",
       "      <th>0</th>\n",
       "      <td>2000</td>\n",
       "      <td>0.010330</td>\n",
       "      <td>2</td>\n",
       "      <td>76.967510</td>\n",
       "      <td>123.322282</td>\n",
       "      <td>0.150581</td>\n",
       "      <td>0.122706</td>\n",
       "      <td>0.150581</td>\n",
       "      <td>44.102117</td>\n",
       "    </tr>\n",
       "    <tr>\n",
       "      <th>1</th>\n",
       "      <td>2000</td>\n",
       "      <td>0.010487</td>\n",
       "      <td>4</td>\n",
       "      <td>75.143689</td>\n",
       "      <td>124.451920</td>\n",
       "      <td>0.170709</td>\n",
       "      <td>0.132990</td>\n",
       "      <td>0.170709</td>\n",
       "      <td>34.315308</td>\n",
       "    </tr>\n",
       "    <tr>\n",
       "      <th>2</th>\n",
       "      <td>2000</td>\n",
       "      <td>0.010289</td>\n",
       "      <td>6</td>\n",
       "      <td>77.098177</td>\n",
       "      <td>124.644953</td>\n",
       "      <td>0.149139</td>\n",
       "      <td>0.134747</td>\n",
       "      <td>0.149139</td>\n",
       "      <td>44.959106</td>\n",
       "    </tr>\n",
       "    <tr>\n",
       "      <th>3</th>\n",
       "      <td>2000</td>\n",
       "      <td>0.010400</td>\n",
       "      <td>8</td>\n",
       "      <td>76.558350</td>\n",
       "      <td>125.820104</td>\n",
       "      <td>0.155097</td>\n",
       "      <td>0.145445</td>\n",
       "      <td>0.155097</td>\n",
       "      <td>41.571499</td>\n",
       "    </tr>\n",
       "    <tr>\n",
       "      <th>4</th>\n",
       "      <td>2000</td>\n",
       "      <td>0.010414</td>\n",
       "      <td>10</td>\n",
       "      <td>77.192759</td>\n",
       "      <td>123.528333</td>\n",
       "      <td>0.148095</td>\n",
       "      <td>0.124581</td>\n",
       "      <td>0.148095</td>\n",
       "      <td>45.595103</td>\n",
       "    </tr>\n",
       "    <tr>\n",
       "      <th>...</th>\n",
       "      <td>...</td>\n",
       "      <td>...</td>\n",
       "      <td>...</td>\n",
       "      <td>...</td>\n",
       "      <td>...</td>\n",
       "      <td>...</td>\n",
       "      <td>...</td>\n",
       "      <td>...</td>\n",
       "      <td>...</td>\n",
       "    </tr>\n",
       "    <tr>\n",
       "      <th>995</th>\n",
       "      <td>2000</td>\n",
       "      <td>0.010416</td>\n",
       "      <td>1992</td>\n",
       "      <td>76.845905</td>\n",
       "      <td>124.548521</td>\n",
       "      <td>0.151923</td>\n",
       "      <td>0.133869</td>\n",
       "      <td>0.151923</td>\n",
       "      <td>43.326390</td>\n",
       "    </tr>\n",
       "    <tr>\n",
       "      <th>996</th>\n",
       "      <td>2000</td>\n",
       "      <td>0.010286</td>\n",
       "      <td>1994</td>\n",
       "      <td>76.447160</td>\n",
       "      <td>124.362150</td>\n",
       "      <td>0.156324</td>\n",
       "      <td>0.132172</td>\n",
       "      <td>0.156324</td>\n",
       "      <td>40.921413</td>\n",
       "    </tr>\n",
       "    <tr>\n",
       "      <th>997</th>\n",
       "      <td>2000</td>\n",
       "      <td>0.010488</td>\n",
       "      <td>1996</td>\n",
       "      <td>76.527861</td>\n",
       "      <td>124.672703</td>\n",
       "      <td>0.155433</td>\n",
       "      <td>0.135000</td>\n",
       "      <td>0.155433</td>\n",
       "      <td>41.391707</td>\n",
       "    </tr>\n",
       "    <tr>\n",
       "      <th>998</th>\n",
       "      <td>2000</td>\n",
       "      <td>0.010409</td>\n",
       "      <td>1998</td>\n",
       "      <td>74.776283</td>\n",
       "      <td>123.648034</td>\n",
       "      <td>0.174764</td>\n",
       "      <td>0.125671</td>\n",
       "      <td>0.174764</td>\n",
       "      <td>32.741472</td>\n",
       "    </tr>\n",
       "    <tr>\n",
       "      <th>999</th>\n",
       "      <td>2000</td>\n",
       "      <td>0.010437</td>\n",
       "      <td>2000</td>\n",
       "      <td>76.417602</td>\n",
       "      <td>125.804969</td>\n",
       "      <td>0.156650</td>\n",
       "      <td>0.145308</td>\n",
       "      <td>0.156650</td>\n",
       "      <td>40.751163</td>\n",
       "    </tr>\n",
       "  </tbody>\n",
       "</table>\n",
       "<p>1000 rows × 9 columns</p>\n",
       "</div>"
      ],
      "text/plain": [
       "        m       MSE  Sparsity    Min_SVD     Max_SVD  min_svd_error  \\\n",
       "0    2000  0.010330         2  76.967510  123.322282       0.150581   \n",
       "1    2000  0.010487         4  75.143689  124.451920       0.170709   \n",
       "2    2000  0.010289         6  77.098177  124.644953       0.149139   \n",
       "3    2000  0.010400         8  76.558350  125.820104       0.155097   \n",
       "4    2000  0.010414        10  77.192759  123.528333       0.148095   \n",
       "..    ...       ...       ...        ...         ...            ...   \n",
       "995  2000  0.010416      1992  76.845905  124.548521       0.151923   \n",
       "996  2000  0.010286      1994  76.447160  124.362150       0.156324   \n",
       "997  2000  0.010488      1996  76.527861  124.672703       0.155433   \n",
       "998  2000  0.010409      1998  74.776283  123.648034       0.174764   \n",
       "999  2000  0.010437      2000  76.417602  125.804969       0.156650   \n",
       "\n",
       "     max_svd_error  sketching_error  inv_squared_sketching_error  \n",
       "0         0.122706         0.150581                    44.102117  \n",
       "1         0.132990         0.170709                    34.315308  \n",
       "2         0.134747         0.149139                    44.959106  \n",
       "3         0.145445         0.155097                    41.571499  \n",
       "4         0.124581         0.148095                    45.595103  \n",
       "..             ...              ...                          ...  \n",
       "995       0.133869         0.151923                    43.326390  \n",
       "996       0.132172         0.156324                    40.921413  \n",
       "997       0.135000         0.155433                    41.391707  \n",
       "998       0.125671         0.174764                    32.741472  \n",
       "999       0.145308         0.156650                    40.751163  \n",
       "\n",
       "[1000 rows x 9 columns]"
      ]
     },
     "execution_count": 117,
     "metadata": {},
     "output_type": "execute_result"
    }
   ],
   "source": [
    "df_results[\"min_svd_error\"] = abs(1- (df_results[\"Min_SVD\"]/min_svd_A))\n",
    "df_results[\"max_svd_error\"] = abs(1- (df_results[\"Max_SVD\"]/max_svd_A))\n",
    "df_results['sketching_error'] = df_results[[\"min_svd_error\", \"max_svd_error\"]].max(axis=1)\n",
    "df_results[\"inv_squared_sketching_error\"] = 1 / (df_results[\"sketching_error\"] ** 2)\n",
    "df_results"
   ]
  },
  {
   "cell_type": "markdown",
   "metadata": {},
   "source": [
    "### Visualiation"
   ]
  },
  {
   "cell_type": "code",
   "execution_count": 119,
   "metadata": {},
   "outputs": [
    {
     "data": {
      "image/png": "[encoded data removed]",
      "text/plain": [
       "<Figure size 1200x600 with 2 Axes>"
      ]
     },
     "metadata": {},
     "output_type": "display_data"
    }
   ],
   "source": [
    "# Plot MSE vs s\n",
    "plt.figure(figsize=(12, 6))\n",
    "\n",
    "plt.subplot(1, 2, 1)\n",
    "plt.plot(df_results[\"Sparsity\"], df_results[\"MSE\"], label=\"MSE\", color='blue')\n",
    "plt.xlabel(\"Sparsity\")\n",
    "plt.ylabel(\"Mean Squared Error (MSE)\")\n",
    "plt.title(\"MSE vs Sparsity\")\n",
    "plt.grid(True)\n",
    "\n",
    "# Plot Min_SVD_Error and Max_SVD_Error vs m\n",
    "plt.subplot(1, 2, 2)\n",
    "plt.plot(df_results[\"Sparsity\"], df_results[\"inv_squared_sketching_error\"], label=\"inv_squared_sketching_error\", color='red')\n",
    "plt.xlabel(\"Sparsity\")\n",
    "plt.ylabel(\"inv_squared_sketching_error\")\n",
    "plt.title(\"inv_squared_sketching_error vs Sparsity\")\n",
    "plt.grid(True)\n",
    "plt.legend()\n",
    "\n",
    "plt.tight_layout()\n",
    "plt.show()"
   ]
  },
  {
   "cell_type": "code",
   "execution_count": 121,
   "metadata": {},
   "outputs": [
    {
     "data": {
      "image/png": "[encoded data removed]",
      "text/plain": [
       "<Figure size 640x480 with 1 Axes>"
      ]
     },
     "metadata": {},
     "output_type": "display_data"
    }
   ],
   "source": [
    "plt.plot(df_results[\"Sparsity\"], df_results[\"sketching_error\"], label=\"sketching_error\", color='blue')\n",
    "plt.xlabel(\"Sparsity\")\n",
    "plt.ylabel(\"sketching_error\")\n",
    "plt.title(\"sketching_error vs Sparsity\")\n",
    "plt.grid(True)"
   ]
  },
  {
   "cell_type": "markdown",
   "metadata": {},
   "source": [
    "# Housing dataset"
   ]
  },
  {
   "cell_type": "markdown",
   "metadata": {},
   "source": [
    "## Data parsing and processing"
   ]
  },
  {
   "cell_type": "code",
   "execution_count": 122,
   "metadata": {},
   "outputs": [
    {
     "data": {
      "text/html": [
       "<div>\n",
       "<style scoped>\n",
       "    .dataframe tbody tr th:only-of-type {\n",
       "        vertical-align: middle;\n",
       "    }\n",
       "\n",
       "    .dataframe tbody tr th {\n",
       "        vertical-align: top;\n",
       "    }\n",
       "\n",
       "    .dataframe thead th {\n",
       "        text-align: right;\n",
       "    }\n",
       "</style>\n",
       "<table border=\"1\" class=\"dataframe\">\n",
       "  <thead>\n",
       "    <tr style=\"text-align: right;\">\n",
       "      <th></th>\n",
       "      <th>price</th>\n",
       "      <th>area</th>\n",
       "      <th>bedrooms</th>\n",
       "      <th>bathrooms</th>\n",
       "      <th>stories</th>\n",
       "      <th>mainroad</th>\n",
       "      <th>guestroom</th>\n",
       "      <th>basement</th>\n",
       "      <th>hotwaterheating</th>\n",
       "      <th>airconditioning</th>\n",
       "      <th>parking</th>\n",
       "      <th>prefarea</th>\n",
       "      <th>furnishingstatus</th>\n",
       "    </tr>\n",
       "  </thead>\n",
       "  <tbody>\n",
       "    <tr>\n",
       "      <th>0</th>\n",
       "      <td>13300000</td>\n",
       "      <td>7420</td>\n",
       "      <td>4</td>\n",
       "      <td>2</td>\n",
       "      <td>3</td>\n",
       "      <td>yes</td>\n",
       "      <td>no</td>\n",
       "      <td>no</td>\n",
       "      <td>no</td>\n",
       "      <td>yes</td>\n",
       "      <td>2</td>\n",
       "      <td>yes</td>\n",
       "      <td>furnished</td>\n",
       "    </tr>\n",
       "    <tr>\n",
       "      <th>1</th>\n",
       "      <td>12250000</td>\n",
       "      <td>8960</td>\n",
       "      <td>4</td>\n",
       "      <td>4</td>\n",
       "      <td>4</td>\n",
       "      <td>yes</td>\n",
       "      <td>no</td>\n",
       "      <td>no</td>\n",
       "      <td>no</td>\n",
       "      <td>yes</td>\n",
       "      <td>3</td>\n",
       "      <td>no</td>\n",
       "      <td>furnished</td>\n",
       "    </tr>\n",
       "    <tr>\n",
       "      <th>2</th>\n",
       "      <td>12250000</td>\n",
       "      <td>9960</td>\n",
       "      <td>3</td>\n",
       "      <td>2</td>\n",
       "      <td>2</td>\n",
       "      <td>yes</td>\n",
       "      <td>no</td>\n",
       "      <td>yes</td>\n",
       "      <td>no</td>\n",
       "      <td>no</td>\n",
       "      <td>2</td>\n",
       "      <td>yes</td>\n",
       "      <td>semi-furnished</td>\n",
       "    </tr>\n",
       "    <tr>\n",
       "      <th>3</th>\n",
       "      <td>12215000</td>\n",
       "      <td>7500</td>\n",
       "      <td>4</td>\n",
       "      <td>2</td>\n",
       "      <td>2</td>\n",
       "      <td>yes</td>\n",
       "      <td>no</td>\n",
       "      <td>yes</td>\n",
       "      <td>no</td>\n",
       "      <td>yes</td>\n",
       "      <td>3</td>\n",
       "      <td>yes</td>\n",
       "      <td>furnished</td>\n",
       "    </tr>\n",
       "    <tr>\n",
       "      <th>4</th>\n",
       "      <td>11410000</td>\n",
       "      <td>7420</td>\n",
       "      <td>4</td>\n",
       "      <td>1</td>\n",
       "      <td>2</td>\n",
       "      <td>yes</td>\n",
       "      <td>yes</td>\n",
       "      <td>yes</td>\n",
       "      <td>no</td>\n",
       "      <td>yes</td>\n",
       "      <td>2</td>\n",
       "      <td>no</td>\n",
       "      <td>furnished</td>\n",
       "    </tr>\n",
       "  </tbody>\n",
       "</table>\n",
       "</div>"
      ],
      "text/plain": [
       "      price  area  bedrooms  bathrooms  stories mainroad guestroom basement  \\\n",
       "0  13300000  7420         4          2        3      yes        no       no   \n",
       "1  12250000  8960         4          4        4      yes        no       no   \n",
       "2  12250000  9960         3          2        2      yes        no      yes   \n",
       "3  12215000  7500         4          2        2      yes        no      yes   \n",
       "4  11410000  7420         4          1        2      yes       yes      yes   \n",
       "\n",
       "  hotwaterheating airconditioning  parking prefarea furnishingstatus  \n",
       "0              no             yes        2      yes        furnished  \n",
       "1              no             yes        3       no        furnished  \n",
       "2              no              no        2      yes   semi-furnished  \n",
       "3              no             yes        3      yes        furnished  \n",
       "4              no             yes        2       no        furnished  "
      ]
     },
     "execution_count": 122,
     "metadata": {},
     "output_type": "execute_result"
    }
   ],
   "source": [
    "df = pd.read_csv(\"../Dataset/Housing.csv\")\n",
    "df.head()"
   ]
  },
  {
   "cell_type": "code",
   "execution_count": 123,
   "metadata": {},
   "outputs": [
    {
     "data": {
      "text/plain": [
       "price               0\n",
       "area                0\n",
       "bedrooms            0\n",
       "bathrooms           0\n",
       "stories             0\n",
       "mainroad            0\n",
       "guestroom           0\n",
       "basement            0\n",
       "hotwaterheating     0\n",
       "airconditioning     0\n",
       "parking             0\n",
       "prefarea            0\n",
       "furnishingstatus    0\n",
       "dtype: int64"
      ]
     },
     "execution_count": 123,
     "metadata": {},
     "output_type": "execute_result"
    }
   ],
   "source": [
    "df.isnull().sum()"
   ]
  },
  {
   "cell_type": "code",
   "execution_count": 124,
   "metadata": {},
   "outputs": [],
   "source": [
    "X = df.drop(columns=['price'])\n",
    "y = df['price']\n",
    "numerical_cols = ['area', 'bedrooms', 'bathrooms', 'stories', 'parking']\n",
    "categorical_cols = ['mainroad', 'guestroom', 'basement', 'hotwaterheating', \n",
    "                    'airconditioning', 'prefarea', 'furnishingstatus']\n",
    "\n",
    "preprocessor = ColumnTransformer(\n",
    "    transformers=[\n",
    "        ('num', StandardScaler(), numerical_cols),  # Standardize numerical features\n",
    "        ('cat', OneHotEncoder(), categorical_cols)   # OneHotEncode categorical features\n",
    "    ])\n",
    "\n",
    "X_transformed = preprocessor.fit_transform(X)"
   ]
  },
  {
   "cell_type": "markdown",
   "metadata": {},
   "source": [
    "### Train test split"
   ]
  },
  {
   "cell_type": "code",
   "execution_count": 125,
   "metadata": {},
   "outputs": [],
   "source": [
    "X_train, X_test, y_train, y_test = train_test_split(X_transformed, y, test_size=0.4, random_state=42)\n",
    "y_train = y_train.reset_index(drop=True)\n",
    "y_test = y_test.reset_index(drop=True)"
   ]
  },
  {
   "cell_type": "markdown",
   "metadata": {},
   "source": [
    "### Initialising parameters"
   ]
  },
  {
   "cell_type": "code",
   "execution_count": 127,
   "metadata": {},
   "outputs": [],
   "source": [
    "non_zero_entries = 10 #sparsity\n",
    "n, d = X_train.shape \n",
    "m = 300 # lesser than n "
   ]
  },
  {
   "cell_type": "markdown",
   "metadata": {},
   "source": [
    "### OLS Sketched vs default"
   ]
  },
  {
   "cell_type": "markdown",
   "metadata": {},
   "source": [
    "#### MSE for sketched"
   ]
  },
  {
   "cell_type": "code",
   "execution_count": 128,
   "metadata": {},
   "outputs": [
    {
     "data": {
      "text/plain": [
       "1512835415940.0642"
      ]
     },
     "execution_count": 128,
     "metadata": {},
     "output_type": "execute_result"
    }
   ],
   "source": [
    "x_estimated, min_svd, max_svd = fast_least_squares_sgd(X_train, y_train, non_zero_entries, m)\n",
    "y_pred_sketch = X_test @ x_estimated\n",
    "mse_sketch = np.mean((y_pred_sketch - y_test)**2)\n",
    "mse_sketch"
   ]
  },
  {
   "cell_type": "markdown",
   "metadata": {},
   "source": [
    "#### MSE for default OLS"
   ]
  },
  {
   "cell_type": "code",
   "execution_count": 129,
   "metadata": {},
   "outputs": [
    {
     "data": {
      "text/plain": [
       "1506230725917.457"
      ]
     },
     "execution_count": 129,
     "metadata": {},
     "output_type": "execute_result"
    }
   ],
   "source": [
    "x_ols, _, _, _ = np.linalg.lstsq(X_train, y_train, rcond=None)\n",
    "y_pred_ols = X_test @ x_ols\n",
    "mse_ols = np.mean((y_pred_ols - y_test)**2)\n",
    "mse_ols"
   ]
  },
  {
   "cell_type": "markdown",
   "metadata": {},
   "source": [
    "#### Analysis/comparison"
   ]
  },
  {
   "cell_type": "code",
   "execution_count": 130,
   "metadata": {},
   "outputs": [
    {
     "name": "stdout",
     "output_type": "stream",
     "text": [
      "0.0043849125561983265\n",
      "1.0043849125561983\n"
     ]
    }
   ],
   "source": [
    "relative_difference = abs(mse_sketch - mse_ols) / mse_ols\n",
    "print(relative_difference)\n",
    "mse_ratio = mse_sketch / mse_ols\n",
    "print(mse_ratio)"
   ]
  },
  {
   "cell_type": "markdown",
   "metadata": {},
   "source": [
    "For relative difference : sketch approximation performs similarly to the OLS model with respect to error.\n",
    "mse_ratio > 1, the sketch has a higher error compared to OLS."
   ]
  },
  {
   "cell_type": "markdown",
   "metadata": {},
   "source": [
    "# Student performance dataset"
   ]
  },
  {
   "cell_type": "markdown",
   "metadata": {},
   "source": [
    "## Data parsing and processing"
   ]
  },
  {
   "cell_type": "code",
   "execution_count": 149,
   "metadata": {},
   "outputs": [
    {
     "data": {
      "text/html": [
       "<div>\n",
       "<style scoped>\n",
       "    .dataframe tbody tr th:only-of-type {\n",
       "        vertical-align: middle;\n",
       "    }\n",
       "\n",
       "    .dataframe tbody tr th {\n",
       "        vertical-align: top;\n",
       "    }\n",
       "\n",
       "    .dataframe thead th {\n",
       "        text-align: right;\n",
       "    }\n",
       "</style>\n",
       "<table border=\"1\" class=\"dataframe\">\n",
       "  <thead>\n",
       "    <tr style=\"text-align: right;\">\n",
       "      <th></th>\n",
       "      <th>Hours Studied</th>\n",
       "      <th>Previous Scores</th>\n",
       "      <th>Extracurricular Activities</th>\n",
       "      <th>Sleep Hours</th>\n",
       "      <th>Sample Question Papers Practiced</th>\n",
       "      <th>Performance Index</th>\n",
       "    </tr>\n",
       "  </thead>\n",
       "  <tbody>\n",
       "    <tr>\n",
       "      <th>0</th>\n",
       "      <td>7</td>\n",
       "      <td>99</td>\n",
       "      <td>Yes</td>\n",
       "      <td>9</td>\n",
       "      <td>1</td>\n",
       "      <td>91.0</td>\n",
       "    </tr>\n",
       "    <tr>\n",
       "      <th>1</th>\n",
       "      <td>4</td>\n",
       "      <td>82</td>\n",
       "      <td>No</td>\n",
       "      <td>4</td>\n",
       "      <td>2</td>\n",
       "      <td>65.0</td>\n",
       "    </tr>\n",
       "    <tr>\n",
       "      <th>2</th>\n",
       "      <td>8</td>\n",
       "      <td>51</td>\n",
       "      <td>Yes</td>\n",
       "      <td>7</td>\n",
       "      <td>2</td>\n",
       "      <td>45.0</td>\n",
       "    </tr>\n",
       "    <tr>\n",
       "      <th>3</th>\n",
       "      <td>5</td>\n",
       "      <td>52</td>\n",
       "      <td>Yes</td>\n",
       "      <td>5</td>\n",
       "      <td>2</td>\n",
       "      <td>36.0</td>\n",
       "    </tr>\n",
       "    <tr>\n",
       "      <th>4</th>\n",
       "      <td>7</td>\n",
       "      <td>75</td>\n",
       "      <td>No</td>\n",
       "      <td>8</td>\n",
       "      <td>5</td>\n",
       "      <td>66.0</td>\n",
       "    </tr>\n",
       "  </tbody>\n",
       "</table>\n",
       "</div>"
      ],
      "text/plain": [
       "   Hours Studied  Previous Scores Extracurricular Activities  Sleep Hours  \\\n",
       "0              7               99                        Yes            9   \n",
       "1              4               82                         No            4   \n",
       "2              8               51                        Yes            7   \n",
       "3              5               52                        Yes            5   \n",
       "4              7               75                         No            8   \n",
       "\n",
       "   Sample Question Papers Practiced  Performance Index  \n",
       "0                                 1               91.0  \n",
       "1                                 2               65.0  \n",
       "2                                 2               45.0  \n",
       "3                                 2               36.0  \n",
       "4                                 5               66.0  "
      ]
     },
     "execution_count": 149,
     "metadata": {},
     "output_type": "execute_result"
    }
   ],
   "source": [
    "df = pd.read_csv(\"../Dataset/Student_Performance.csv\")\n",
    "df.head()"
   ]
  },
  {
   "cell_type": "code",
   "execution_count": 150,
   "metadata": {},
   "outputs": [
    {
     "data": {
      "text/html": [
       "<div>\n",
       "<style scoped>\n",
       "    .dataframe tbody tr th:only-of-type {\n",
       "        vertical-align: middle;\n",
       "    }\n",
       "\n",
       "    .dataframe tbody tr th {\n",
       "        vertical-align: top;\n",
       "    }\n",
       "\n",
       "    .dataframe thead th {\n",
       "        text-align: right;\n",
       "    }\n",
       "</style>\n",
       "<table border=\"1\" class=\"dataframe\">\n",
       "  <thead>\n",
       "    <tr style=\"text-align: right;\">\n",
       "      <th></th>\n",
       "      <th>Hours Studied</th>\n",
       "      <th>Previous Scores</th>\n",
       "      <th>Extracurricular Activities</th>\n",
       "      <th>Sleep Hours</th>\n",
       "      <th>Sample Question Papers Practiced</th>\n",
       "      <th>Performance Index</th>\n",
       "    </tr>\n",
       "  </thead>\n",
       "  <tbody>\n",
       "    <tr>\n",
       "      <th>0</th>\n",
       "      <td>7</td>\n",
       "      <td>99</td>\n",
       "      <td>1</td>\n",
       "      <td>9</td>\n",
       "      <td>1</td>\n",
       "      <td>91.0</td>\n",
       "    </tr>\n",
       "    <tr>\n",
       "      <th>1</th>\n",
       "      <td>4</td>\n",
       "      <td>82</td>\n",
       "      <td>0</td>\n",
       "      <td>4</td>\n",
       "      <td>2</td>\n",
       "      <td>65.0</td>\n",
       "    </tr>\n",
       "    <tr>\n",
       "      <th>2</th>\n",
       "      <td>8</td>\n",
       "      <td>51</td>\n",
       "      <td>1</td>\n",
       "      <td>7</td>\n",
       "      <td>2</td>\n",
       "      <td>45.0</td>\n",
       "    </tr>\n",
       "    <tr>\n",
       "      <th>3</th>\n",
       "      <td>5</td>\n",
       "      <td>52</td>\n",
       "      <td>1</td>\n",
       "      <td>5</td>\n",
       "      <td>2</td>\n",
       "      <td>36.0</td>\n",
       "    </tr>\n",
       "    <tr>\n",
       "      <th>4</th>\n",
       "      <td>7</td>\n",
       "      <td>75</td>\n",
       "      <td>0</td>\n",
       "      <td>8</td>\n",
       "      <td>5</td>\n",
       "      <td>66.0</td>\n",
       "    </tr>\n",
       "  </tbody>\n",
       "</table>\n",
       "</div>"
      ],
      "text/plain": [
       "   Hours Studied  Previous Scores  Extracurricular Activities  Sleep Hours  \\\n",
       "0              7               99                           1            9   \n",
       "1              4               82                           0            4   \n",
       "2              8               51                           1            7   \n",
       "3              5               52                           1            5   \n",
       "4              7               75                           0            8   \n",
       "\n",
       "   Sample Question Papers Practiced  Performance Index  \n",
       "0                                 1               91.0  \n",
       "1                                 2               65.0  \n",
       "2                                 2               45.0  \n",
       "3                                 2               36.0  \n",
       "4                                 5               66.0  "
      ]
     },
     "execution_count": 150,
     "metadata": {},
     "output_type": "execute_result"
    }
   ],
   "source": [
    "df['Extracurricular Activities'] = df['Extracurricular Activities'].map({'Yes': 1, 'No': 0})\n",
    "df.head()"
   ]
  },
  {
   "cell_type": "code",
   "execution_count": 151,
   "metadata": {},
   "outputs": [
    {
     "data": {
      "text/plain": [
       "Hours Studied                       0\n",
       "Previous Scores                     0\n",
       "Extracurricular Activities          0\n",
       "Sleep Hours                         0\n",
       "Sample Question Papers Practiced    0\n",
       "Performance Index                   0\n",
       "dtype: int64"
      ]
     },
     "execution_count": 151,
     "metadata": {},
     "output_type": "execute_result"
    }
   ],
   "source": [
    "df.isnull().sum()"
   ]
  },
  {
   "cell_type": "code",
   "execution_count": 152,
   "metadata": {},
   "outputs": [
    {
     "data": {
      "text/plain": [
       "(10000, 6)"
      ]
     },
     "execution_count": 152,
     "metadata": {},
     "output_type": "execute_result"
    }
   ],
   "source": [
    "df.shape"
   ]
  },
  {
   "cell_type": "code",
   "execution_count": 153,
   "metadata": {},
   "outputs": [],
   "source": [
    "X = df.drop(columns='Performance Index')\n",
    "y = df['Performance Index']\n",
    "scaler = StandardScaler()\n",
    "X_scaled = scaler.fit_transform(X)"
   ]
  },
  {
   "cell_type": "markdown",
   "metadata": {},
   "source": [
    "### Train test split"
   ]
  },
  {
   "cell_type": "code",
   "execution_count": 154,
   "metadata": {},
   "outputs": [
    {
     "data": {
      "text/plain": [
       "(8000, 5)"
      ]
     },
     "execution_count": 154,
     "metadata": {},
     "output_type": "execute_result"
    }
   ],
   "source": [
    "X_train, X_test, y_train, y_test = train_test_split(X_scaled, y, test_size=0.2, random_state=42)\n",
    "y_train = y_train.reset_index(drop=True)\n",
    "y_test = y_test.reset_index(drop=True)\n",
    "X_train.shape"
   ]
  },
  {
   "cell_type": "markdown",
   "metadata": {},
   "source": [
    "### Intialising parameters"
   ]
  },
  {
   "cell_type": "code",
   "execution_count": 155,
   "metadata": {},
   "outputs": [],
   "source": [
    "non_zero_entries = 10 #sparsity (<m)\n",
    "n, d = X_train.shape \n",
    "m = 2000 # lesser than n "
   ]
  },
  {
   "cell_type": "markdown",
   "metadata": {},
   "source": [
    "### MSE of regular OLS"
   ]
  },
  {
   "cell_type": "code",
   "execution_count": 159,
   "metadata": {},
   "outputs": [
    {
     "data": {
      "text/plain": [
       "3052.59869597723"
      ]
     },
     "execution_count": 159,
     "metadata": {},
     "output_type": "execute_result"
    }
   ],
   "source": [
    "x_ols, _, _, _ = np.linalg.lstsq(X_train, y_train, rcond=None)\n",
    "y_pred_ols = X_test @ x_ols\n",
    "mse_ols = np.mean((y_pred_ols - y_test)**2)\n",
    "mse_ols"
   ]
  },
  {
   "cell_type": "markdown",
   "metadata": {},
   "source": [
    "### MSE of ridge regression"
   ]
  },
  {
   "cell_type": "code",
   "execution_count": 157,
   "metadata": {},
   "outputs": [
    {
     "data": {
      "text/plain": [
       "4.083211367310288"
      ]
     },
     "execution_count": 157,
     "metadata": {},
     "output_type": "execute_result"
    }
   ],
   "source": [
    "ridge_model = Ridge(alpha=1.0)\n",
    "ridge_model.fit(X_train, y_train)\n",
    "x_ridge = ridge_model.coef_ #coefficient\n",
    "y_pred_ridge = ridge_model.predict(X_test)\n",
    "mse_ridge = mean_squared_error(y_test, y_pred_ridge)\n",
    "mse_ridge"
   ]
  },
  {
   "cell_type": "markdown",
   "metadata": {},
   "source": [
    "Difference might be due to intercept"
   ]
  },
  {
   "cell_type": "markdown",
   "metadata": {},
   "source": [
    "### MSE of regular OLS accounting for y-intercept"
   ]
  },
  {
   "cell_type": "code",
   "execution_count": 163,
   "metadata": {},
   "outputs": [
    {
     "data": {
      "text/plain": [
       "4.082628398521851"
      ]
     },
     "execution_count": 163,
     "metadata": {},
     "output_type": "execute_result"
    }
   ],
   "source": [
    "X_train_with_intercept = np.column_stack([np.ones(X_train.shape[0]), X_train])\n",
    "X_test_with_intercept = np.column_stack([np.ones(X_test.shape[0]), X_test])\n",
    "x_ols, _, _, _ = np.linalg.lstsq(X_train_with_intercept, y_train, rcond=None)\n",
    "y_pred_ols = X_test_with_intercept @ x_ols\n",
    "mse_ols = np.mean((y_pred_ols - y_test)**2)\n",
    "mse_ols"
   ]
  },
  {
   "cell_type": "markdown",
   "metadata": {},
   "source": [
    "### Sketched OLS with intercept"
   ]
  },
  {
   "cell_type": "code",
   "execution_count": 168,
   "metadata": {},
   "outputs": [
    {
     "data": {
      "text/plain": [
       "4.103913260705038"
      ]
     },
     "execution_count": 168,
     "metadata": {},
     "output_type": "execute_result"
    }
   ],
   "source": [
    "x_sketched, intercept ,min_svd_error, max_svd_error = fast_least_squares_sgd_with_intercept(X_train, y_train, non_zero_entries, m)\n",
    "y_pred_sketch = X_test @ x_sketched + intercept\n",
    "mse_sgd_sketch = mean_squared_error(y_test, y_pred_sketch)\n",
    "mse_sgd_sketch"
   ]
  },
  {
   "cell_type": "markdown",
   "metadata": {},
   "source": [
    "### Sketched OLS regularised with intercept"
   ]
  },
  {
   "cell_type": "code",
   "execution_count": 185,
   "metadata": {},
   "outputs": [
    {
     "data": {
      "text/plain": [
       "4.089354033000808"
      ]
     },
     "execution_count": 185,
     "metadata": {},
     "output_type": "execute_result"
    }
   ],
   "source": [
    "x_sketched_regularised, intercept, _ ,min_svd_error, max_svd_error = fast_least_squares_sgd_regularized_with_intercept(X_train, y_train, non_zero_entries, m,lambda_reg=1e-3)\n",
    "y_pred_sketch = X_test @ x_sketched_regularised + intercept\n",
    "mse_sgd_sketch_regularised = mean_squared_error(y_test, y_pred_sketch)\n",
    "mse_sgd_sketch_regularised"
   ]
  },
  {
   "cell_type": "markdown",
   "metadata": {},
   "source": [
    "# Further analysis"
   ]
  },
  {
   "cell_type": "markdown",
   "metadata": {},
   "source": [
    "## Sketched non regularisation"
   ]
  },
  {
   "cell_type": "code",
   "execution_count": 189,
   "metadata": {},
   "outputs": [],
   "source": [
    "non_zero_entries = 10 #sparsity (<m)\n",
    "n, d = X_train.shape \n",
    "m = 2000 # lesser than n \n",
    "iterations = 10\n",
    "min_svds = []\n",
    "max_svds = []\n",
    "x_sgd_results = []\n",
    "mse_list = []\n",
    "intercept_list = []\n",
    "\n",
    "# Iterate over the number of iterations\n",
    "for i in range(iterations):\n",
    "    x_sgd, intercept, min_svd, max_svd = fast_least_squares_sgd_with_intercept(X_train, y_train, non_zero_entries, m)\n",
    "    x_sgd_results.append(x_sgd)\n",
    "    min_svds.append(min_svd)\n",
    "    max_svds.append(max_svd)\n",
    "    intercept_list.append(intercept)\n",
    "    y_pred_sgd = X_test @ x_sgd + intercept\n",
    "    mse_sgd_reg = mean_squared_error(y_test, y_pred_sgd)\n",
    "    mse_list.append(mse_sgd_reg)\n",
    "\n",
    "\n",
    "x_sgd_sketch_results_df = pd.DataFrame(x_sgd_results)\n",
    "x_sgd_sketch_results_df[\"intercept\"] = intercept_list\n",
    "x_sgd_sketch_results_df[\"Min_SVD\"] = min_svds\n",
    "x_sgd_sketch_results_df[\"Max_SVD\"] = max_svds\n",
    "x_sgd_sketch_results_df[\"mse\"] = mse_list"
   ]
  },
  {
   "cell_type": "code",
   "execution_count": 190,
   "metadata": {},
   "outputs": [
    {
     "data": {
      "text/html": [
       "<div>\n",
       "<style scoped>\n",
       "    .dataframe tbody tr th:only-of-type {\n",
       "        vertical-align: middle;\n",
       "    }\n",
       "\n",
       "    .dataframe tbody tr th {\n",
       "        vertical-align: top;\n",
       "    }\n",
       "\n",
       "    .dataframe thead th {\n",
       "        text-align: right;\n",
       "    }\n",
       "</style>\n",
       "<table border=\"1\" class=\"dataframe\">\n",
       "  <thead>\n",
       "    <tr style=\"text-align: right;\">\n",
       "      <th></th>\n",
       "      <th>0</th>\n",
       "      <th>1</th>\n",
       "      <th>2</th>\n",
       "      <th>3</th>\n",
       "      <th>4</th>\n",
       "      <th>intercept</th>\n",
       "      <th>Min_SVD</th>\n",
       "      <th>Max_SVD</th>\n",
       "      <th>mse</th>\n",
       "    </tr>\n",
       "  </thead>\n",
       "  <tbody>\n",
       "    <tr>\n",
       "      <th>0</th>\n",
       "      <td>7.463638</td>\n",
       "      <td>17.625803</td>\n",
       "      <td>0.224892</td>\n",
       "      <td>0.829878</td>\n",
       "      <td>0.504846</td>\n",
       "      <td>55.284512</td>\n",
       "      <td>84.830372</td>\n",
       "      <td>93.365231</td>\n",
       "      <td>4.112091</td>\n",
       "    </tr>\n",
       "    <tr>\n",
       "      <th>1</th>\n",
       "      <td>7.415734</td>\n",
       "      <td>17.664148</td>\n",
       "      <td>0.286918</td>\n",
       "      <td>0.836082</td>\n",
       "      <td>0.610813</td>\n",
       "      <td>55.268846</td>\n",
       "      <td>84.576572</td>\n",
       "      <td>92.266421</td>\n",
       "      <td>4.082019</td>\n",
       "    </tr>\n",
       "    <tr>\n",
       "      <th>2</th>\n",
       "      <td>7.398504</td>\n",
       "      <td>17.626567</td>\n",
       "      <td>0.281120</td>\n",
       "      <td>0.752296</td>\n",
       "      <td>0.610487</td>\n",
       "      <td>55.270195</td>\n",
       "      <td>85.643580</td>\n",
       "      <td>93.601576</td>\n",
       "      <td>4.098479</td>\n",
       "    </tr>\n",
       "    <tr>\n",
       "      <th>3</th>\n",
       "      <td>7.387844</td>\n",
       "      <td>17.662120</td>\n",
       "      <td>0.314769</td>\n",
       "      <td>0.835129</td>\n",
       "      <td>0.547892</td>\n",
       "      <td>55.258689</td>\n",
       "      <td>87.448693</td>\n",
       "      <td>92.804421</td>\n",
       "      <td>4.079110</td>\n",
       "    </tr>\n",
       "    <tr>\n",
       "      <th>4</th>\n",
       "      <td>7.370298</td>\n",
       "      <td>17.655841</td>\n",
       "      <td>0.290605</td>\n",
       "      <td>0.789178</td>\n",
       "      <td>0.583909</td>\n",
       "      <td>55.266289</td>\n",
       "      <td>84.833401</td>\n",
       "      <td>93.465031</td>\n",
       "      <td>4.084343</td>\n",
       "    </tr>\n",
       "    <tr>\n",
       "      <th>5</th>\n",
       "      <td>7.326196</td>\n",
       "      <td>17.636917</td>\n",
       "      <td>0.281281</td>\n",
       "      <td>0.841707</td>\n",
       "      <td>0.583430</td>\n",
       "      <td>55.140216</td>\n",
       "      <td>85.577476</td>\n",
       "      <td>93.513911</td>\n",
       "      <td>4.080667</td>\n",
       "    </tr>\n",
       "    <tr>\n",
       "      <th>6</th>\n",
       "      <td>7.413774</td>\n",
       "      <td>17.553768</td>\n",
       "      <td>0.317450</td>\n",
       "      <td>0.839714</td>\n",
       "      <td>0.627275</td>\n",
       "      <td>55.265694</td>\n",
       "      <td>85.643134</td>\n",
       "      <td>92.373176</td>\n",
       "      <td>4.115988</td>\n",
       "    </tr>\n",
       "    <tr>\n",
       "      <th>7</th>\n",
       "      <td>7.399924</td>\n",
       "      <td>17.665336</td>\n",
       "      <td>0.240942</td>\n",
       "      <td>0.874828</td>\n",
       "      <td>0.555778</td>\n",
       "      <td>55.213840</td>\n",
       "      <td>84.640479</td>\n",
       "      <td>93.225581</td>\n",
       "      <td>4.078413</td>\n",
       "    </tr>\n",
       "    <tr>\n",
       "      <th>8</th>\n",
       "      <td>7.340988</td>\n",
       "      <td>17.644951</td>\n",
       "      <td>0.303556</td>\n",
       "      <td>0.810459</td>\n",
       "      <td>0.506969</td>\n",
       "      <td>55.239749</td>\n",
       "      <td>86.869305</td>\n",
       "      <td>93.154647</td>\n",
       "      <td>4.087438</td>\n",
       "    </tr>\n",
       "    <tr>\n",
       "      <th>9</th>\n",
       "      <td>7.499027</td>\n",
       "      <td>17.625939</td>\n",
       "      <td>0.273125</td>\n",
       "      <td>0.812884</td>\n",
       "      <td>0.506624</td>\n",
       "      <td>55.246272</td>\n",
       "      <td>85.830607</td>\n",
       "      <td>92.347580</td>\n",
       "      <td>4.103677</td>\n",
       "    </tr>\n",
       "  </tbody>\n",
       "</table>\n",
       "</div>"
      ],
      "text/plain": [
       "          0          1         2         3         4  intercept    Min_SVD  \\\n",
       "0  7.463638  17.625803  0.224892  0.829878  0.504846  55.284512  84.830372   \n",
       "1  7.415734  17.664148  0.286918  0.836082  0.610813  55.268846  84.576572   \n",
       "2  7.398504  17.626567  0.281120  0.752296  0.610487  55.270195  85.643580   \n",
       "3  7.387844  17.662120  0.314769  0.835129  0.547892  55.258689  87.448693   \n",
       "4  7.370298  17.655841  0.290605  0.789178  0.583909  55.266289  84.833401   \n",
       "5  7.326196  17.636917  0.281281  0.841707  0.583430  55.140216  85.577476   \n",
       "6  7.413774  17.553768  0.317450  0.839714  0.627275  55.265694  85.643134   \n",
       "7  7.399924  17.665336  0.240942  0.874828  0.555778  55.213840  84.640479   \n",
       "8  7.340988  17.644951  0.303556  0.810459  0.506969  55.239749  86.869305   \n",
       "9  7.499027  17.625939  0.273125  0.812884  0.506624  55.246272  85.830607   \n",
       "\n",
       "     Max_SVD       mse  \n",
       "0  93.365231  4.112091  \n",
       "1  92.266421  4.082019  \n",
       "2  93.601576  4.098479  \n",
       "3  92.804421  4.079110  \n",
       "4  93.465031  4.084343  \n",
       "5  93.513911  4.080667  \n",
       "6  92.373176  4.115988  \n",
       "7  93.225581  4.078413  \n",
       "8  93.154647  4.087438  \n",
       "9  92.347580  4.103677  "
      ]
     },
     "execution_count": 190,
     "metadata": {},
     "output_type": "execute_result"
    }
   ],
   "source": [
    "x_sgd_sketch_results_df"
   ]
  },
  {
   "cell_type": "markdown",
   "metadata": {},
   "source": [
    "## Sketched regularisation"
   ]
  },
  {
   "cell_type": "code",
   "execution_count": 193,
   "metadata": {},
   "outputs": [],
   "source": [
    "intercept_list = []\n",
    "min_svds = []\n",
    "max_svds = []\n",
    "x_sgd_reg_results = []\n",
    "mse_list = []\n",
    "\n",
    "# Iterate over the number of iterations\n",
    "for i in range(iterations):\n",
    "    x_sgd_reg, reg_intercept, _, min_svd, max_svd = fast_least_squares_sgd_regularized_with_intercept(X_train, y_train, non_zero_entries,m, lambda_reg=1e-3)\n",
    "    x_sgd_reg_results.append(x_sgd_reg)\n",
    "    intercept_list.append(reg_intercept)\n",
    "    min_svds.append(min_svd)\n",
    "    max_svds.append(max_svd)\n",
    "    y_pred_sgd_reg = X_test @ x_sgd_reg + reg_intercept\n",
    "    mse_sgd_reg = mean_squared_error(y_test, y_pred_sgd_reg)\n",
    "    mse_list.append(mse_sgd_reg)\n",
    "\n",
    "\n",
    "x_sgd_results_reg_df = pd.DataFrame(x_sgd_reg_results)\n",
    "x_sgd_results_reg_df[\"intercept\"] = intercept_list\n",
    "x_sgd_results_reg_df[\"Min_SVD\"] = min_svds\n",
    "x_sgd_results_reg_df[\"Max_SVD\"] = max_svds\n",
    "x_sgd_results_reg_df[\"mse\"] = mse_list"
   ]
  },
  {
   "cell_type": "code",
   "execution_count": 194,
   "metadata": {},
   "outputs": [
    {
     "data": {
      "text/html": [
       "<div>\n",
       "<style scoped>\n",
       "    .dataframe tbody tr th:only-of-type {\n",
       "        vertical-align: middle;\n",
       "    }\n",
       "\n",
       "    .dataframe tbody tr th {\n",
       "        vertical-align: top;\n",
       "    }\n",
       "\n",
       "    .dataframe thead th {\n",
       "        text-align: right;\n",
       "    }\n",
       "</style>\n",
       "<table border=\"1\" class=\"dataframe\">\n",
       "  <thead>\n",
       "    <tr style=\"text-align: right;\">\n",
       "      <th></th>\n",
       "      <th>0</th>\n",
       "      <th>1</th>\n",
       "      <th>2</th>\n",
       "      <th>3</th>\n",
       "      <th>4</th>\n",
       "      <th>intercept</th>\n",
       "      <th>Min_SVD</th>\n",
       "      <th>Max_SVD</th>\n",
       "      <th>mse</th>\n",
       "    </tr>\n",
       "  </thead>\n",
       "  <tbody>\n",
       "    <tr>\n",
       "      <th>0</th>\n",
       "      <td>7.323648</td>\n",
       "      <td>17.659190</td>\n",
       "      <td>0.343482</td>\n",
       "      <td>0.841497</td>\n",
       "      <td>0.576020</td>\n",
       "      <td>55.264716</td>\n",
       "      <td>85.975402</td>\n",
       "      <td>91.880505</td>\n",
       "      <td>4.085188</td>\n",
       "    </tr>\n",
       "    <tr>\n",
       "      <th>1</th>\n",
       "      <td>7.340992</td>\n",
       "      <td>17.613063</td>\n",
       "      <td>0.214222</td>\n",
       "      <td>0.812172</td>\n",
       "      <td>0.543324</td>\n",
       "      <td>55.194214</td>\n",
       "      <td>85.096803</td>\n",
       "      <td>93.859579</td>\n",
       "      <td>4.097066</td>\n",
       "    </tr>\n",
       "    <tr>\n",
       "      <th>2</th>\n",
       "      <td>7.367678</td>\n",
       "      <td>17.632039</td>\n",
       "      <td>0.300644</td>\n",
       "      <td>0.850275</td>\n",
       "      <td>0.497600</td>\n",
       "      <td>55.253727</td>\n",
       "      <td>84.592267</td>\n",
       "      <td>93.543594</td>\n",
       "      <td>4.091786</td>\n",
       "    </tr>\n",
       "    <tr>\n",
       "      <th>3</th>\n",
       "      <td>7.337394</td>\n",
       "      <td>17.693365</td>\n",
       "      <td>0.323532</td>\n",
       "      <td>0.816604</td>\n",
       "      <td>0.604452</td>\n",
       "      <td>55.236433</td>\n",
       "      <td>85.020351</td>\n",
       "      <td>92.471546</td>\n",
       "      <td>4.073244</td>\n",
       "    </tr>\n",
       "    <tr>\n",
       "      <th>4</th>\n",
       "      <td>7.394111</td>\n",
       "      <td>17.614094</td>\n",
       "      <td>0.260633</td>\n",
       "      <td>0.797608</td>\n",
       "      <td>0.553030</td>\n",
       "      <td>55.265449</td>\n",
       "      <td>85.694924</td>\n",
       "      <td>93.145059</td>\n",
       "      <td>4.097038</td>\n",
       "    </tr>\n",
       "    <tr>\n",
       "      <th>5</th>\n",
       "      <td>7.324919</td>\n",
       "      <td>17.657071</td>\n",
       "      <td>0.307228</td>\n",
       "      <td>0.790117</td>\n",
       "      <td>0.577996</td>\n",
       "      <td>55.252545</td>\n",
       "      <td>85.651464</td>\n",
       "      <td>94.186057</td>\n",
       "      <td>4.084665</td>\n",
       "    </tr>\n",
       "    <tr>\n",
       "      <th>6</th>\n",
       "      <td>7.393180</td>\n",
       "      <td>17.569311</td>\n",
       "      <td>0.331994</td>\n",
       "      <td>0.813311</td>\n",
       "      <td>0.465992</td>\n",
       "      <td>55.261643</td>\n",
       "      <td>84.169013</td>\n",
       "      <td>92.861517</td>\n",
       "      <td>4.119649</td>\n",
       "    </tr>\n",
       "    <tr>\n",
       "      <th>7</th>\n",
       "      <td>7.406991</td>\n",
       "      <td>17.587046</td>\n",
       "      <td>0.232537</td>\n",
       "      <td>0.816973</td>\n",
       "      <td>0.587530</td>\n",
       "      <td>55.212058</td>\n",
       "      <td>87.271688</td>\n",
       "      <td>94.017591</td>\n",
       "      <td>4.099665</td>\n",
       "    </tr>\n",
       "    <tr>\n",
       "      <th>8</th>\n",
       "      <td>7.360547</td>\n",
       "      <td>17.624271</td>\n",
       "      <td>0.335073</td>\n",
       "      <td>0.806664</td>\n",
       "      <td>0.533025</td>\n",
       "      <td>55.234786</td>\n",
       "      <td>84.073440</td>\n",
       "      <td>92.885563</td>\n",
       "      <td>4.087523</td>\n",
       "    </tr>\n",
       "    <tr>\n",
       "      <th>9</th>\n",
       "      <td>7.354081</td>\n",
       "      <td>17.638121</td>\n",
       "      <td>0.257065</td>\n",
       "      <td>0.793418</td>\n",
       "      <td>0.547408</td>\n",
       "      <td>55.227485</td>\n",
       "      <td>83.258195</td>\n",
       "      <td>93.611477</td>\n",
       "      <td>4.086335</td>\n",
       "    </tr>\n",
       "  </tbody>\n",
       "</table>\n",
       "</div>"
      ],
      "text/plain": [
       "          0          1         2         3         4  intercept    Min_SVD  \\\n",
       "0  7.323648  17.659190  0.343482  0.841497  0.576020  55.264716  85.975402   \n",
       "1  7.340992  17.613063  0.214222  0.812172  0.543324  55.194214  85.096803   \n",
       "2  7.367678  17.632039  0.300644  0.850275  0.497600  55.253727  84.592267   \n",
       "3  7.337394  17.693365  0.323532  0.816604  0.604452  55.236433  85.020351   \n",
       "4  7.394111  17.614094  0.260633  0.797608  0.553030  55.265449  85.694924   \n",
       "5  7.324919  17.657071  0.307228  0.790117  0.577996  55.252545  85.651464   \n",
       "6  7.393180  17.569311  0.331994  0.813311  0.465992  55.261643  84.169013   \n",
       "7  7.406991  17.587046  0.232537  0.816973  0.587530  55.212058  87.271688   \n",
       "8  7.360547  17.624271  0.335073  0.806664  0.533025  55.234786  84.073440   \n",
       "9  7.354081  17.638121  0.257065  0.793418  0.547408  55.227485  83.258195   \n",
       "\n",
       "     Max_SVD       mse  \n",
       "0  91.880505  4.085188  \n",
       "1  93.859579  4.097066  \n",
       "2  93.543594  4.091786  \n",
       "3  92.471546  4.073244  \n",
       "4  93.145059  4.097038  \n",
       "5  94.186057  4.084665  \n",
       "6  92.861517  4.119649  \n",
       "7  94.017591  4.099665  \n",
       "8  92.885563  4.087523  \n",
       "9  93.611477  4.086335  "
      ]
     },
     "execution_count": 194,
     "metadata": {},
     "output_type": "execute_result"
    }
   ],
   "source": [
    "x_sgd_results_reg_df"
   ]
  },
  {
   "cell_type": "markdown",
   "metadata": {},
   "source": [
    "## Put the coeefficient and intercept into an array"
   ]
  },
  {
   "cell_type": "markdown",
   "metadata": {},
   "source": [
    "### Sketched non reg"
   ]
  },
  {
   "cell_type": "code",
   "execution_count": 200,
   "metadata": {},
   "outputs": [
    {
     "data": {
      "text/html": [
       "<div>\n",
       "<style scoped>\n",
       "    .dataframe tbody tr th:only-of-type {\n",
       "        vertical-align: middle;\n",
       "    }\n",
       "\n",
       "    .dataframe tbody tr th {\n",
       "        vertical-align: top;\n",
       "    }\n",
       "\n",
       "    .dataframe thead th {\n",
       "        text-align: right;\n",
       "    }\n",
       "</style>\n",
       "<table border=\"1\" class=\"dataframe\">\n",
       "  <thead>\n",
       "    <tr style=\"text-align: right;\">\n",
       "      <th></th>\n",
       "      <th>0</th>\n",
       "      <th>1</th>\n",
       "      <th>2</th>\n",
       "      <th>3</th>\n",
       "      <th>4</th>\n",
       "      <th>intercept</th>\n",
       "      <th>Min_SVD</th>\n",
       "      <th>Max_SVD</th>\n",
       "      <th>mse</th>\n",
       "      <th>x_array</th>\n",
       "    </tr>\n",
       "  </thead>\n",
       "  <tbody>\n",
       "    <tr>\n",
       "      <th>0</th>\n",
       "      <td>7.463638</td>\n",
       "      <td>17.625803</td>\n",
       "      <td>0.224892</td>\n",
       "      <td>0.829878</td>\n",
       "      <td>0.504846</td>\n",
       "      <td>55.284512</td>\n",
       "      <td>84.830372</td>\n",
       "      <td>93.365231</td>\n",
       "      <td>4.112091</td>\n",
       "      <td>[7.463638335810351, 17.625802624227365, 0.2248...</td>\n",
       "    </tr>\n",
       "    <tr>\n",
       "      <th>1</th>\n",
       "      <td>7.415734</td>\n",
       "      <td>17.664148</td>\n",
       "      <td>0.286918</td>\n",
       "      <td>0.836082</td>\n",
       "      <td>0.610813</td>\n",
       "      <td>55.268846</td>\n",
       "      <td>84.576572</td>\n",
       "      <td>92.266421</td>\n",
       "      <td>4.082019</td>\n",
       "      <td>[7.41573359230728, 17.664147966347528, 0.28691...</td>\n",
       "    </tr>\n",
       "    <tr>\n",
       "      <th>2</th>\n",
       "      <td>7.398504</td>\n",
       "      <td>17.626567</td>\n",
       "      <td>0.281120</td>\n",
       "      <td>0.752296</td>\n",
       "      <td>0.610487</td>\n",
       "      <td>55.270195</td>\n",
       "      <td>85.643580</td>\n",
       "      <td>93.601576</td>\n",
       "      <td>4.098479</td>\n",
       "      <td>[7.398503570854378, 17.626566643451415, 0.2811...</td>\n",
       "    </tr>\n",
       "    <tr>\n",
       "      <th>3</th>\n",
       "      <td>7.387844</td>\n",
       "      <td>17.662120</td>\n",
       "      <td>0.314769</td>\n",
       "      <td>0.835129</td>\n",
       "      <td>0.547892</td>\n",
       "      <td>55.258689</td>\n",
       "      <td>87.448693</td>\n",
       "      <td>92.804421</td>\n",
       "      <td>4.079110</td>\n",
       "      <td>[7.387844073722896, 17.66211961569598, 0.31476...</td>\n",
       "    </tr>\n",
       "    <tr>\n",
       "      <th>4</th>\n",
       "      <td>7.370298</td>\n",
       "      <td>17.655841</td>\n",
       "      <td>0.290605</td>\n",
       "      <td>0.789178</td>\n",
       "      <td>0.583909</td>\n",
       "      <td>55.266289</td>\n",
       "      <td>84.833401</td>\n",
       "      <td>93.465031</td>\n",
       "      <td>4.084343</td>\n",
       "      <td>[7.370297808466278, 17.655840697216995, 0.2906...</td>\n",
       "    </tr>\n",
       "  </tbody>\n",
       "</table>\n",
       "</div>"
      ],
      "text/plain": [
       "          0          1         2         3         4  intercept    Min_SVD  \\\n",
       "0  7.463638  17.625803  0.224892  0.829878  0.504846  55.284512  84.830372   \n",
       "1  7.415734  17.664148  0.286918  0.836082  0.610813  55.268846  84.576572   \n",
       "2  7.398504  17.626567  0.281120  0.752296  0.610487  55.270195  85.643580   \n",
       "3  7.387844  17.662120  0.314769  0.835129  0.547892  55.258689  87.448693   \n",
       "4  7.370298  17.655841  0.290605  0.789178  0.583909  55.266289  84.833401   \n",
       "\n",
       "     Max_SVD       mse                                            x_array  \n",
       "0  93.365231  4.112091  [7.463638335810351, 17.625802624227365, 0.2248...  \n",
       "1  92.266421  4.082019  [7.41573359230728, 17.664147966347528, 0.28691...  \n",
       "2  93.601576  4.098479  [7.398503570854378, 17.626566643451415, 0.2811...  \n",
       "3  92.804421  4.079110  [7.387844073722896, 17.66211961569598, 0.31476...  \n",
       "4  93.465031  4.084343  [7.370297808466278, 17.655840697216995, 0.2906...  "
      ]
     },
     "execution_count": 200,
     "metadata": {},
     "output_type": "execute_result"
    }
   ],
   "source": [
    "x_sgd_sketch_results_df[\"x_array\"] = x_sgd_sketch_results_df.iloc[:, 0:6].apply(lambda row: row.values, axis=1)\n",
    "x_sgd_sketch_results_df.head()"
   ]
  },
  {
   "cell_type": "markdown",
   "metadata": {},
   "source": [
    "### Sketched reg"
   ]
  },
  {
   "cell_type": "code",
   "execution_count": 203,
   "metadata": {},
   "outputs": [
    {
     "data": {
      "text/html": [
       "<div>\n",
       "<style scoped>\n",
       "    .dataframe tbody tr th:only-of-type {\n",
       "        vertical-align: middle;\n",
       "    }\n",
       "\n",
       "    .dataframe tbody tr th {\n",
       "        vertical-align: top;\n",
       "    }\n",
       "\n",
       "    .dataframe thead th {\n",
       "        text-align: right;\n",
       "    }\n",
       "</style>\n",
       "<table border=\"1\" class=\"dataframe\">\n",
       "  <thead>\n",
       "    <tr style=\"text-align: right;\">\n",
       "      <th></th>\n",
       "      <th>0</th>\n",
       "      <th>1</th>\n",
       "      <th>2</th>\n",
       "      <th>3</th>\n",
       "      <th>4</th>\n",
       "      <th>intercept</th>\n",
       "      <th>Min_SVD</th>\n",
       "      <th>Max_SVD</th>\n",
       "      <th>mse</th>\n",
       "      <th>x_array</th>\n",
       "    </tr>\n",
       "  </thead>\n",
       "  <tbody>\n",
       "    <tr>\n",
       "      <th>0</th>\n",
       "      <td>7.323648</td>\n",
       "      <td>17.659190</td>\n",
       "      <td>0.343482</td>\n",
       "      <td>0.841497</td>\n",
       "      <td>0.576020</td>\n",
       "      <td>55.264716</td>\n",
       "      <td>85.975402</td>\n",
       "      <td>91.880505</td>\n",
       "      <td>4.085188</td>\n",
       "      <td>[7.323648490313978, 17.6591899750168, 0.343482...</td>\n",
       "    </tr>\n",
       "    <tr>\n",
       "      <th>1</th>\n",
       "      <td>7.340992</td>\n",
       "      <td>17.613063</td>\n",
       "      <td>0.214222</td>\n",
       "      <td>0.812172</td>\n",
       "      <td>0.543324</td>\n",
       "      <td>55.194214</td>\n",
       "      <td>85.096803</td>\n",
       "      <td>93.859579</td>\n",
       "      <td>4.097066</td>\n",
       "      <td>[7.340991879591277, 17.613063220199084, 0.2142...</td>\n",
       "    </tr>\n",
       "    <tr>\n",
       "      <th>2</th>\n",
       "      <td>7.367678</td>\n",
       "      <td>17.632039</td>\n",
       "      <td>0.300644</td>\n",
       "      <td>0.850275</td>\n",
       "      <td>0.497600</td>\n",
       "      <td>55.253727</td>\n",
       "      <td>84.592267</td>\n",
       "      <td>93.543594</td>\n",
       "      <td>4.091786</td>\n",
       "      <td>[7.3676779013826295, 17.632038694086436, 0.300...</td>\n",
       "    </tr>\n",
       "    <tr>\n",
       "      <th>3</th>\n",
       "      <td>7.337394</td>\n",
       "      <td>17.693365</td>\n",
       "      <td>0.323532</td>\n",
       "      <td>0.816604</td>\n",
       "      <td>0.604452</td>\n",
       "      <td>55.236433</td>\n",
       "      <td>85.020351</td>\n",
       "      <td>92.471546</td>\n",
       "      <td>4.073244</td>\n",
       "      <td>[7.337394141179786, 17.693364878125802, 0.3235...</td>\n",
       "    </tr>\n",
       "    <tr>\n",
       "      <th>4</th>\n",
       "      <td>7.394111</td>\n",
       "      <td>17.614094</td>\n",
       "      <td>0.260633</td>\n",
       "      <td>0.797608</td>\n",
       "      <td>0.553030</td>\n",
       "      <td>55.265449</td>\n",
       "      <td>85.694924</td>\n",
       "      <td>93.145059</td>\n",
       "      <td>4.097038</td>\n",
       "      <td>[7.394111177416938, 17.614093863930886, 0.2606...</td>\n",
       "    </tr>\n",
       "  </tbody>\n",
       "</table>\n",
       "</div>"
      ],
      "text/plain": [
       "          0          1         2         3         4  intercept    Min_SVD  \\\n",
       "0  7.323648  17.659190  0.343482  0.841497  0.576020  55.264716  85.975402   \n",
       "1  7.340992  17.613063  0.214222  0.812172  0.543324  55.194214  85.096803   \n",
       "2  7.367678  17.632039  0.300644  0.850275  0.497600  55.253727  84.592267   \n",
       "3  7.337394  17.693365  0.323532  0.816604  0.604452  55.236433  85.020351   \n",
       "4  7.394111  17.614094  0.260633  0.797608  0.553030  55.265449  85.694924   \n",
       "\n",
       "     Max_SVD       mse                                            x_array  \n",
       "0  91.880505  4.085188  [7.323648490313978, 17.6591899750168, 0.343482...  \n",
       "1  93.859579  4.097066  [7.340991879591277, 17.613063220199084, 0.2142...  \n",
       "2  93.543594  4.091786  [7.3676779013826295, 17.632038694086436, 0.300...  \n",
       "3  92.471546  4.073244  [7.337394141179786, 17.693364878125802, 0.3235...  \n",
       "4  93.145059  4.097038  [7.394111177416938, 17.614093863930886, 0.2606...  "
      ]
     },
     "execution_count": 203,
     "metadata": {},
     "output_type": "execute_result"
    }
   ],
   "source": [
    "x_sgd_results_reg_df[\"x_array\"] = x_sgd_results_reg_df.iloc[:, 0:6].apply(lambda row: row.values, axis=1)\n",
    "x_sgd_results_reg_df.head()"
   ]
  },
  {
   "cell_type": "markdown",
   "metadata": {},
   "source": [
    "## Comparing distance of coefficient"
   ]
  },
  {
   "cell_type": "markdown",
   "metadata": {},
   "source": [
    "### Default OLS vs sketched OLS"
   ]
  },
  {
   "cell_type": "markdown",
   "metadata": {},
   "source": [
    "#### Reorder intercept to last index "
   ]
  },
  {
   "cell_type": "code",
   "execution_count": 206,
   "metadata": {},
   "outputs": [
    {
     "data": {
      "text/plain": [
       "array([ 7.38559242, 17.63689926,  0.30429188,  0.80878696,  0.55001995,\n",
       "       55.2407568 ])"
      ]
     },
     "execution_count": 206,
     "metadata": {},
     "output_type": "execute_result"
    }
   ],
   "source": [
    "ols_coef = np.append(x_ols[1:],x_ols[0])\n",
    "ols_coef"
   ]
  },
  {
   "cell_type": "code",
   "execution_count": 210,
   "metadata": {},
   "outputs": [
    {
     "data": {
      "text/html": [
       "<div>\n",
       "<style scoped>\n",
       "    .dataframe tbody tr th:only-of-type {\n",
       "        vertical-align: middle;\n",
       "    }\n",
       "\n",
       "    .dataframe tbody tr th {\n",
       "        vertical-align: top;\n",
       "    }\n",
       "\n",
       "    .dataframe thead th {\n",
       "        text-align: right;\n",
       "    }\n",
       "</style>\n",
       "<table border=\"1\" class=\"dataframe\">\n",
       "  <thead>\n",
       "    <tr style=\"text-align: right;\">\n",
       "      <th></th>\n",
       "      <th>0</th>\n",
       "      <th>1</th>\n",
       "      <th>2</th>\n",
       "      <th>3</th>\n",
       "      <th>4</th>\n",
       "      <th>intercept</th>\n",
       "      <th>Min_SVD</th>\n",
       "      <th>Max_SVD</th>\n",
       "      <th>mse</th>\n",
       "      <th>x_array</th>\n",
       "      <th>distance</th>\n",
       "    </tr>\n",
       "  </thead>\n",
       "  <tbody>\n",
       "    <tr>\n",
       "      <th>0</th>\n",
       "      <td>7.463638</td>\n",
       "      <td>17.625803</td>\n",
       "      <td>0.224892</td>\n",
       "      <td>0.829878</td>\n",
       "      <td>0.504846</td>\n",
       "      <td>55.284512</td>\n",
       "      <td>84.830372</td>\n",
       "      <td>93.365231</td>\n",
       "      <td>4.112091</td>\n",
       "      <td>[7.463638335810351, 17.625802624227365, 0.2248...</td>\n",
       "      <td>0.130072</td>\n",
       "    </tr>\n",
       "    <tr>\n",
       "      <th>1</th>\n",
       "      <td>7.415734</td>\n",
       "      <td>17.664148</td>\n",
       "      <td>0.286918</td>\n",
       "      <td>0.836082</td>\n",
       "      <td>0.610813</td>\n",
       "      <td>55.268846</td>\n",
       "      <td>84.576572</td>\n",
       "      <td>92.266421</td>\n",
       "      <td>4.082019</td>\n",
       "      <td>[7.41573359230728, 17.664147966347528, 0.28691...</td>\n",
       "      <td>0.084751</td>\n",
       "    </tr>\n",
       "    <tr>\n",
       "      <th>2</th>\n",
       "      <td>7.398504</td>\n",
       "      <td>17.626567</td>\n",
       "      <td>0.281120</td>\n",
       "      <td>0.752296</td>\n",
       "      <td>0.610487</td>\n",
       "      <td>55.270195</td>\n",
       "      <td>85.643580</td>\n",
       "      <td>93.601576</td>\n",
       "      <td>4.098479</td>\n",
       "      <td>[7.398503570854378, 17.626566643451415, 0.2811...</td>\n",
       "      <td>0.092329</td>\n",
       "    </tr>\n",
       "    <tr>\n",
       "      <th>3</th>\n",
       "      <td>7.387844</td>\n",
       "      <td>17.662120</td>\n",
       "      <td>0.314769</td>\n",
       "      <td>0.835129</td>\n",
       "      <td>0.547892</td>\n",
       "      <td>55.258689</td>\n",
       "      <td>87.448693</td>\n",
       "      <td>92.804421</td>\n",
       "      <td>4.079110</td>\n",
       "      <td>[7.387844073722896, 17.66211961569598, 0.31476...</td>\n",
       "      <td>0.042082</td>\n",
       "    </tr>\n",
       "    <tr>\n",
       "      <th>4</th>\n",
       "      <td>7.370298</td>\n",
       "      <td>17.655841</td>\n",
       "      <td>0.290605</td>\n",
       "      <td>0.789178</td>\n",
       "      <td>0.583909</td>\n",
       "      <td>55.266289</td>\n",
       "      <td>84.833401</td>\n",
       "      <td>93.465031</td>\n",
       "      <td>4.084343</td>\n",
       "      <td>[7.370297808466278, 17.655840697216995, 0.2906...</td>\n",
       "      <td>0.054451</td>\n",
       "    </tr>\n",
       "  </tbody>\n",
       "</table>\n",
       "</div>"
      ],
      "text/plain": [
       "          0          1         2         3         4  intercept    Min_SVD  \\\n",
       "0  7.463638  17.625803  0.224892  0.829878  0.504846  55.284512  84.830372   \n",
       "1  7.415734  17.664148  0.286918  0.836082  0.610813  55.268846  84.576572   \n",
       "2  7.398504  17.626567  0.281120  0.752296  0.610487  55.270195  85.643580   \n",
       "3  7.387844  17.662120  0.314769  0.835129  0.547892  55.258689  87.448693   \n",
       "4  7.370298  17.655841  0.290605  0.789178  0.583909  55.266289  84.833401   \n",
       "\n",
       "     Max_SVD       mse                                            x_array  \\\n",
       "0  93.365231  4.112091  [7.463638335810351, 17.625802624227365, 0.2248...   \n",
       "1  92.266421  4.082019  [7.41573359230728, 17.664147966347528, 0.28691...   \n",
       "2  93.601576  4.098479  [7.398503570854378, 17.626566643451415, 0.2811...   \n",
       "3  92.804421  4.079110  [7.387844073722896, 17.66211961569598, 0.31476...   \n",
       "4  93.465031  4.084343  [7.370297808466278, 17.655840697216995, 0.2906...   \n",
       "\n",
       "   distance  \n",
       "0  0.130072  \n",
       "1  0.084751  \n",
       "2  0.092329  \n",
       "3  0.042082  \n",
       "4  0.054451  "
      ]
     },
     "execution_count": 210,
     "metadata": {},
     "output_type": "execute_result"
    }
   ],
   "source": [
    "distances = []\n",
    "for index, row in x_sgd_sketch_results_df.iterrows():\n",
    "    # Extract x_sgd_array from each row\n",
    "    x_sgd_array = row['x_array']\n",
    "    # Calculate the distance from regression_coeff\n",
    "    distance = np.linalg.norm(x_sgd_array - ols_coef)\n",
    "    # Append the calculated distance\n",
    "    distances.append(distance)\n",
    "\n",
    "# Assign the calculated distances to the new 'distance' column\n",
    "x_sgd_sketch_results_df['distance'] = distances\n",
    "x_sgd_sketch_results_df.head()"
   ]
  },
  {
   "cell_type": "markdown",
   "metadata": {},
   "source": [
    "### Ridge vs sketch regularisation"
   ]
  },
  {
   "cell_type": "markdown",
   "metadata": {},
   "source": [
    "#### merge coefficient with intercept for ridge"
   ]
  },
  {
   "cell_type": "code",
   "execution_count": 212,
   "metadata": {},
   "outputs": [
    {
     "data": {
      "text/plain": [
       "array([ 7.38465051, 17.63468517,  0.30426091,  0.80869184,  0.54998809,\n",
       "       55.24076516])"
      ]
     },
     "execution_count": 212,
     "metadata": {},
     "output_type": "execute_result"
    }
   ],
   "source": [
    "ridge_coef = np.append(x_ridge,ridge_model.intercept_)\n",
    "ridge_coef"
   ]
  },
  {
   "cell_type": "code",
   "execution_count": 213,
   "metadata": {},
   "outputs": [
    {
     "data": {
      "text/html": [
       "<div>\n",
       "<style scoped>\n",
       "    .dataframe tbody tr th:only-of-type {\n",
       "        vertical-align: middle;\n",
       "    }\n",
       "\n",
       "    .dataframe tbody tr th {\n",
       "        vertical-align: top;\n",
       "    }\n",
       "\n",
       "    .dataframe thead th {\n",
       "        text-align: right;\n",
       "    }\n",
       "</style>\n",
       "<table border=\"1\" class=\"dataframe\">\n",
       "  <thead>\n",
       "    <tr style=\"text-align: right;\">\n",
       "      <th></th>\n",
       "      <th>0</th>\n",
       "      <th>1</th>\n",
       "      <th>2</th>\n",
       "      <th>3</th>\n",
       "      <th>4</th>\n",
       "      <th>intercept</th>\n",
       "      <th>Min_SVD</th>\n",
       "      <th>Max_SVD</th>\n",
       "      <th>mse</th>\n",
       "      <th>x_array</th>\n",
       "      <th>distance</th>\n",
       "    </tr>\n",
       "  </thead>\n",
       "  <tbody>\n",
       "    <tr>\n",
       "      <th>0</th>\n",
       "      <td>7.323648</td>\n",
       "      <td>17.659190</td>\n",
       "      <td>0.343482</td>\n",
       "      <td>0.841497</td>\n",
       "      <td>0.576020</td>\n",
       "      <td>55.264716</td>\n",
       "      <td>85.975402</td>\n",
       "      <td>91.880505</td>\n",
       "      <td>4.085188</td>\n",
       "      <td>[7.323648490313978, 17.6591899750168, 0.343482...</td>\n",
       "      <td>0.090485</td>\n",
       "    </tr>\n",
       "    <tr>\n",
       "      <th>1</th>\n",
       "      <td>7.340992</td>\n",
       "      <td>17.613063</td>\n",
       "      <td>0.214222</td>\n",
       "      <td>0.812172</td>\n",
       "      <td>0.543324</td>\n",
       "      <td>55.194214</td>\n",
       "      <td>85.096803</td>\n",
       "      <td>93.859579</td>\n",
       "      <td>4.097066</td>\n",
       "      <td>[7.340991879591277, 17.613063220199084, 0.2142...</td>\n",
       "      <td>0.112713</td>\n",
       "    </tr>\n",
       "    <tr>\n",
       "      <th>2</th>\n",
       "      <td>7.367678</td>\n",
       "      <td>17.632039</td>\n",
       "      <td>0.300644</td>\n",
       "      <td>0.850275</td>\n",
       "      <td>0.497600</td>\n",
       "      <td>55.253727</td>\n",
       "      <td>84.592267</td>\n",
       "      <td>93.543594</td>\n",
       "      <td>4.091786</td>\n",
       "      <td>[7.3676779013826295, 17.632038694086436, 0.300...</td>\n",
       "      <td>0.070355</td>\n",
       "    </tr>\n",
       "    <tr>\n",
       "      <th>3</th>\n",
       "      <td>7.337394</td>\n",
       "      <td>17.693365</td>\n",
       "      <td>0.323532</td>\n",
       "      <td>0.816604</td>\n",
       "      <td>0.604452</td>\n",
       "      <td>55.236433</td>\n",
       "      <td>85.020351</td>\n",
       "      <td>92.471546</td>\n",
       "      <td>4.073244</td>\n",
       "      <td>[7.337394141179786, 17.693364878125802, 0.3235...</td>\n",
       "      <td>0.095371</td>\n",
       "    </tr>\n",
       "    <tr>\n",
       "      <th>4</th>\n",
       "      <td>7.394111</td>\n",
       "      <td>17.614094</td>\n",
       "      <td>0.260633</td>\n",
       "      <td>0.797608</td>\n",
       "      <td>0.553030</td>\n",
       "      <td>55.265449</td>\n",
       "      <td>85.694924</td>\n",
       "      <td>93.145059</td>\n",
       "      <td>4.097038</td>\n",
       "      <td>[7.394111177416938, 17.614093863930886, 0.2606...</td>\n",
       "      <td>0.056199</td>\n",
       "    </tr>\n",
       "  </tbody>\n",
       "</table>\n",
       "</div>"
      ],
      "text/plain": [
       "          0          1         2         3         4  intercept    Min_SVD  \\\n",
       "0  7.323648  17.659190  0.343482  0.841497  0.576020  55.264716  85.975402   \n",
       "1  7.340992  17.613063  0.214222  0.812172  0.543324  55.194214  85.096803   \n",
       "2  7.367678  17.632039  0.300644  0.850275  0.497600  55.253727  84.592267   \n",
       "3  7.337394  17.693365  0.323532  0.816604  0.604452  55.236433  85.020351   \n",
       "4  7.394111  17.614094  0.260633  0.797608  0.553030  55.265449  85.694924   \n",
       "\n",
       "     Max_SVD       mse                                            x_array  \\\n",
       "0  91.880505  4.085188  [7.323648490313978, 17.6591899750168, 0.343482...   \n",
       "1  93.859579  4.097066  [7.340991879591277, 17.613063220199084, 0.2142...   \n",
       "2  93.543594  4.091786  [7.3676779013826295, 17.632038694086436, 0.300...   \n",
       "3  92.471546  4.073244  [7.337394141179786, 17.693364878125802, 0.3235...   \n",
       "4  93.145059  4.097038  [7.394111177416938, 17.614093863930886, 0.2606...   \n",
       "\n",
       "   distance  \n",
       "0  0.090485  \n",
       "1  0.112713  \n",
       "2  0.070355  \n",
       "3  0.095371  \n",
       "4  0.056199  "
      ]
     },
     "execution_count": 213,
     "metadata": {},
     "output_type": "execute_result"
    }
   ],
   "source": [
    "distances = []\n",
    "for index, row in x_sgd_results_reg_df.iterrows():\n",
    "    # Extract x_sgd_array from each row\n",
    "    x_sgd_array = row['x_array']\n",
    "    # Calculate the distance from regression_coeff\n",
    "    distance = np.linalg.norm(x_sgd_array - ridge_coef)\n",
    "    # Append the calculated distance\n",
    "    distances.append(distance)\n",
    "\n",
    "# Assign the calculated distances to the new 'distance' column\n",
    "x_sgd_results_reg_df['distance'] = distances\n",
    "x_sgd_results_reg_df.head()"
   ]
  },
  {
   "cell_type": "markdown",
   "metadata": {},
   "source": [
    "## Sketching error"
   ]
  },
  {
   "cell_type": "markdown",
   "metadata": {},
   "source": [
    "### SVD of original train data"
   ]
  },
  {
   "cell_type": "code",
   "execution_count": 215,
   "metadata": {},
   "outputs": [
    {
     "name": "stdout",
     "output_type": "stream",
     "text": [
      "min svd of A is 88.20594154424597\n",
      "max svd of A is 90.49370701837194\n"
     ]
    }
   ],
   "source": [
    "min_svd_X_train, max_svd_X_train = compute_min_max_svd(X_train)\n",
    "print(f\"min svd of A is {min_svd_X_train}\")\n",
    "print(f\"max svd of A is {max_svd_X_train}\")"
   ]
  },
  {
   "cell_type": "markdown",
   "metadata": {},
   "source": [
    "### Sketching error and inverse sketching error squared of non regularisation sketch"
   ]
  },
  {
   "cell_type": "code",
   "execution_count": 217,
   "metadata": {},
   "outputs": [
    {
     "data": {
      "text/html": [
       "<div>\n",
       "<style scoped>\n",
       "    .dataframe tbody tr th:only-of-type {\n",
       "        vertical-align: middle;\n",
       "    }\n",
       "\n",
       "    .dataframe tbody tr th {\n",
       "        vertical-align: top;\n",
       "    }\n",
       "\n",
       "    .dataframe thead th {\n",
       "        text-align: right;\n",
       "    }\n",
       "</style>\n",
       "<table border=\"1\" class=\"dataframe\">\n",
       "  <thead>\n",
       "    <tr style=\"text-align: right;\">\n",
       "      <th></th>\n",
       "      <th>0</th>\n",
       "      <th>1</th>\n",
       "      <th>2</th>\n",
       "      <th>3</th>\n",
       "      <th>4</th>\n",
       "      <th>intercept</th>\n",
       "      <th>Min_SVD</th>\n",
       "      <th>Max_SVD</th>\n",
       "      <th>mse</th>\n",
       "      <th>x_array</th>\n",
       "      <th>distance</th>\n",
       "      <th>min_svd_error</th>\n",
       "      <th>max_svd_error</th>\n",
       "      <th>sketching_error</th>\n",
       "      <th>inv_squared_sketching_error</th>\n",
       "    </tr>\n",
       "  </thead>\n",
       "  <tbody>\n",
       "    <tr>\n",
       "      <th>0</th>\n",
       "      <td>7.463638</td>\n",
       "      <td>17.625803</td>\n",
       "      <td>0.224892</td>\n",
       "      <td>0.829878</td>\n",
       "      <td>0.504846</td>\n",
       "      <td>55.284512</td>\n",
       "      <td>84.830372</td>\n",
       "      <td>93.365231</td>\n",
       "      <td>4.112091</td>\n",
       "      <td>[7.463638335810351, 17.625802624227365, 0.2248...</td>\n",
       "      <td>0.130072</td>\n",
       "      <td>0.038269</td>\n",
       "      <td>0.031732</td>\n",
       "      <td>0.038269</td>\n",
       "      <td>682.812814</td>\n",
       "    </tr>\n",
       "    <tr>\n",
       "      <th>1</th>\n",
       "      <td>7.415734</td>\n",
       "      <td>17.664148</td>\n",
       "      <td>0.286918</td>\n",
       "      <td>0.836082</td>\n",
       "      <td>0.610813</td>\n",
       "      <td>55.268846</td>\n",
       "      <td>84.576572</td>\n",
       "      <td>92.266421</td>\n",
       "      <td>4.082019</td>\n",
       "      <td>[7.41573359230728, 17.664147966347528, 0.28691...</td>\n",
       "      <td>0.084751</td>\n",
       "      <td>0.041147</td>\n",
       "      <td>0.019589</td>\n",
       "      <td>0.041147</td>\n",
       "      <td>590.654089</td>\n",
       "    </tr>\n",
       "    <tr>\n",
       "      <th>2</th>\n",
       "      <td>7.398504</td>\n",
       "      <td>17.626567</td>\n",
       "      <td>0.281120</td>\n",
       "      <td>0.752296</td>\n",
       "      <td>0.610487</td>\n",
       "      <td>55.270195</td>\n",
       "      <td>85.643580</td>\n",
       "      <td>93.601576</td>\n",
       "      <td>4.098479</td>\n",
       "      <td>[7.398503570854378, 17.626566643451415, 0.2811...</td>\n",
       "      <td>0.092329</td>\n",
       "      <td>0.029050</td>\n",
       "      <td>0.034343</td>\n",
       "      <td>0.034343</td>\n",
       "      <td>847.835166</td>\n",
       "    </tr>\n",
       "    <tr>\n",
       "      <th>3</th>\n",
       "      <td>7.387844</td>\n",
       "      <td>17.662120</td>\n",
       "      <td>0.314769</td>\n",
       "      <td>0.835129</td>\n",
       "      <td>0.547892</td>\n",
       "      <td>55.258689</td>\n",
       "      <td>87.448693</td>\n",
       "      <td>92.804421</td>\n",
       "      <td>4.079110</td>\n",
       "      <td>[7.387844073722896, 17.66211961569598, 0.31476...</td>\n",
       "      <td>0.042082</td>\n",
       "      <td>0.008585</td>\n",
       "      <td>0.025535</td>\n",
       "      <td>0.025535</td>\n",
       "      <td>1533.714629</td>\n",
       "    </tr>\n",
       "    <tr>\n",
       "      <th>4</th>\n",
       "      <td>7.370298</td>\n",
       "      <td>17.655841</td>\n",
       "      <td>0.290605</td>\n",
       "      <td>0.789178</td>\n",
       "      <td>0.583909</td>\n",
       "      <td>55.266289</td>\n",
       "      <td>84.833401</td>\n",
       "      <td>93.465031</td>\n",
       "      <td>4.084343</td>\n",
       "      <td>[7.370297808466278, 17.655840697216995, 0.2906...</td>\n",
       "      <td>0.054451</td>\n",
       "      <td>0.038235</td>\n",
       "      <td>0.032835</td>\n",
       "      <td>0.038235</td>\n",
       "      <td>684.039746</td>\n",
       "    </tr>\n",
       "  </tbody>\n",
       "</table>\n",
       "</div>"
      ],
      "text/plain": [
       "          0          1         2         3         4  intercept    Min_SVD  \\\n",
       "0  7.463638  17.625803  0.224892  0.829878  0.504846  55.284512  84.830372   \n",
       "1  7.415734  17.664148  0.286918  0.836082  0.610813  55.268846  84.576572   \n",
       "2  7.398504  17.626567  0.281120  0.752296  0.610487  55.270195  85.643580   \n",
       "3  7.387844  17.662120  0.314769  0.835129  0.547892  55.258689  87.448693   \n",
       "4  7.370298  17.655841  0.290605  0.789178  0.583909  55.266289  84.833401   \n",
       "\n",
       "     Max_SVD       mse                                            x_array  \\\n",
       "0  93.365231  4.112091  [7.463638335810351, 17.625802624227365, 0.2248...   \n",
       "1  92.266421  4.082019  [7.41573359230728, 17.664147966347528, 0.28691...   \n",
       "2  93.601576  4.098479  [7.398503570854378, 17.626566643451415, 0.2811...   \n",
       "3  92.804421  4.079110  [7.387844073722896, 17.66211961569598, 0.31476...   \n",
       "4  93.465031  4.084343  [7.370297808466278, 17.655840697216995, 0.2906...   \n",
       "\n",
       "   distance  min_svd_error  max_svd_error  sketching_error  \\\n",
       "0  0.130072       0.038269       0.031732         0.038269   \n",
       "1  0.084751       0.041147       0.019589         0.041147   \n",
       "2  0.092329       0.029050       0.034343         0.034343   \n",
       "3  0.042082       0.008585       0.025535         0.025535   \n",
       "4  0.054451       0.038235       0.032835         0.038235   \n",
       "\n",
       "   inv_squared_sketching_error  \n",
       "0                   682.812814  \n",
       "1                   590.654089  \n",
       "2                   847.835166  \n",
       "3                  1533.714629  \n",
       "4                   684.039746  "
      ]
     },
     "execution_count": 217,
     "metadata": {},
     "output_type": "execute_result"
    }
   ],
   "source": [
    "x_sgd_sketch_results_df[\"min_svd_error\"] = abs(1- (x_sgd_sketch_results_df[\"Min_SVD\"]/min_svd_X_train))\n",
    "x_sgd_sketch_results_df[\"max_svd_error\"] = abs(1- (x_sgd_sketch_results_df[\"Max_SVD\"]/max_svd_X_train))\n",
    "x_sgd_sketch_results_df['sketching_error'] = x_sgd_sketch_results_df[[\"min_svd_error\", \"max_svd_error\"]].max(axis=1)\n",
    "x_sgd_sketch_results_df[\"inv_squared_sketching_error\"] = 1 / (x_sgd_sketch_results_df[\"sketching_error\"] ** 2)\n",
    "x_sgd_sketch_results_df.head()"
   ]
  },
  {
   "cell_type": "markdown",
   "metadata": {},
   "source": [
    "### Sketching error and inverse sketching error squared of regularisation sketch"
   ]
  },
  {
   "cell_type": "code",
   "execution_count": 218,
   "metadata": {},
   "outputs": [
    {
     "data": {
      "text/html": [
       "<div>\n",
       "<style scoped>\n",
       "    .dataframe tbody tr th:only-of-type {\n",
       "        vertical-align: middle;\n",
       "    }\n",
       "\n",
       "    .dataframe tbody tr th {\n",
       "        vertical-align: top;\n",
       "    }\n",
       "\n",
       "    .dataframe thead th {\n",
       "        text-align: right;\n",
       "    }\n",
       "</style>\n",
       "<table border=\"1\" class=\"dataframe\">\n",
       "  <thead>\n",
       "    <tr style=\"text-align: right;\">\n",
       "      <th></th>\n",
       "      <th>0</th>\n",
       "      <th>1</th>\n",
       "      <th>2</th>\n",
       "      <th>3</th>\n",
       "      <th>4</th>\n",
       "      <th>intercept</th>\n",
       "      <th>Min_SVD</th>\n",
       "      <th>Max_SVD</th>\n",
       "      <th>mse</th>\n",
       "      <th>x_array</th>\n",
       "      <th>distance</th>\n",
       "      <th>min_svd_error</th>\n",
       "      <th>max_svd_error</th>\n",
       "      <th>sketching_error</th>\n",
       "      <th>inv_squared_sketching_error</th>\n",
       "    </tr>\n",
       "  </thead>\n",
       "  <tbody>\n",
       "    <tr>\n",
       "      <th>0</th>\n",
       "      <td>7.323648</td>\n",
       "      <td>17.659190</td>\n",
       "      <td>0.343482</td>\n",
       "      <td>0.841497</td>\n",
       "      <td>0.576020</td>\n",
       "      <td>55.264716</td>\n",
       "      <td>85.975402</td>\n",
       "      <td>91.880505</td>\n",
       "      <td>4.085188</td>\n",
       "      <td>[7.323648490313978, 17.6591899750168, 0.343482...</td>\n",
       "      <td>0.090485</td>\n",
       "      <td>0.025288</td>\n",
       "      <td>0.015325</td>\n",
       "      <td>0.025288</td>\n",
       "      <td>1563.780618</td>\n",
       "    </tr>\n",
       "    <tr>\n",
       "      <th>1</th>\n",
       "      <td>7.340992</td>\n",
       "      <td>17.613063</td>\n",
       "      <td>0.214222</td>\n",
       "      <td>0.812172</td>\n",
       "      <td>0.543324</td>\n",
       "      <td>55.194214</td>\n",
       "      <td>85.096803</td>\n",
       "      <td>93.859579</td>\n",
       "      <td>4.097066</td>\n",
       "      <td>[7.340991879591277, 17.613063220199084, 0.2142...</td>\n",
       "      <td>0.112713</td>\n",
       "      <td>0.035249</td>\n",
       "      <td>0.037195</td>\n",
       "      <td>0.037195</td>\n",
       "      <td>722.838851</td>\n",
       "    </tr>\n",
       "    <tr>\n",
       "      <th>2</th>\n",
       "      <td>7.367678</td>\n",
       "      <td>17.632039</td>\n",
       "      <td>0.300644</td>\n",
       "      <td>0.850275</td>\n",
       "      <td>0.497600</td>\n",
       "      <td>55.253727</td>\n",
       "      <td>84.592267</td>\n",
       "      <td>93.543594</td>\n",
       "      <td>4.091786</td>\n",
       "      <td>[7.3676779013826295, 17.632038694086436, 0.300...</td>\n",
       "      <td>0.070355</td>\n",
       "      <td>0.040969</td>\n",
       "      <td>0.033703</td>\n",
       "      <td>0.040969</td>\n",
       "      <td>595.796061</td>\n",
       "    </tr>\n",
       "    <tr>\n",
       "      <th>3</th>\n",
       "      <td>7.337394</td>\n",
       "      <td>17.693365</td>\n",
       "      <td>0.323532</td>\n",
       "      <td>0.816604</td>\n",
       "      <td>0.604452</td>\n",
       "      <td>55.236433</td>\n",
       "      <td>85.020351</td>\n",
       "      <td>92.471546</td>\n",
       "      <td>4.073244</td>\n",
       "      <td>[7.337394141179786, 17.693364878125802, 0.3235...</td>\n",
       "      <td>0.095371</td>\n",
       "      <td>0.036115</td>\n",
       "      <td>0.021856</td>\n",
       "      <td>0.036115</td>\n",
       "      <td>766.683127</td>\n",
       "    </tr>\n",
       "    <tr>\n",
       "      <th>4</th>\n",
       "      <td>7.394111</td>\n",
       "      <td>17.614094</td>\n",
       "      <td>0.260633</td>\n",
       "      <td>0.797608</td>\n",
       "      <td>0.553030</td>\n",
       "      <td>55.265449</td>\n",
       "      <td>85.694924</td>\n",
       "      <td>93.145059</td>\n",
       "      <td>4.097038</td>\n",
       "      <td>[7.394111177416938, 17.614093863930886, 0.2606...</td>\n",
       "      <td>0.056199</td>\n",
       "      <td>0.028468</td>\n",
       "      <td>0.029299</td>\n",
       "      <td>0.029299</td>\n",
       "      <td>1164.935530</td>\n",
       "    </tr>\n",
       "  </tbody>\n",
       "</table>\n",
       "</div>"
      ],
      "text/plain": [
       "          0          1         2         3         4  intercept    Min_SVD  \\\n",
       "0  7.323648  17.659190  0.343482  0.841497  0.576020  55.264716  85.975402   \n",
       "1  7.340992  17.613063  0.214222  0.812172  0.543324  55.194214  85.096803   \n",
       "2  7.367678  17.632039  0.300644  0.850275  0.497600  55.253727  84.592267   \n",
       "3  7.337394  17.693365  0.323532  0.816604  0.604452  55.236433  85.020351   \n",
       "4  7.394111  17.614094  0.260633  0.797608  0.553030  55.265449  85.694924   \n",
       "\n",
       "     Max_SVD       mse                                            x_array  \\\n",
       "0  91.880505  4.085188  [7.323648490313978, 17.6591899750168, 0.343482...   \n",
       "1  93.859579  4.097066  [7.340991879591277, 17.613063220199084, 0.2142...   \n",
       "2  93.543594  4.091786  [7.3676779013826295, 17.632038694086436, 0.300...   \n",
       "3  92.471546  4.073244  [7.337394141179786, 17.693364878125802, 0.3235...   \n",
       "4  93.145059  4.097038  [7.394111177416938, 17.614093863930886, 0.2606...   \n",
       "\n",
       "   distance  min_svd_error  max_svd_error  sketching_error  \\\n",
       "0  0.090485       0.025288       0.015325         0.025288   \n",
       "1  0.112713       0.035249       0.037195         0.037195   \n",
       "2  0.070355       0.040969       0.033703         0.040969   \n",
       "3  0.095371       0.036115       0.021856         0.036115   \n",
       "4  0.056199       0.028468       0.029299         0.029299   \n",
       "\n",
       "   inv_squared_sketching_error  \n",
       "0                  1563.780618  \n",
       "1                   722.838851  \n",
       "2                   595.796061  \n",
       "3                   766.683127  \n",
       "4                  1164.935530  "
      ]
     },
     "execution_count": 218,
     "metadata": {},
     "output_type": "execute_result"
    }
   ],
   "source": [
    "x_sgd_results_reg_df[\"min_svd_error\"] = abs(1- (x_sgd_results_reg_df[\"Min_SVD\"]/min_svd_X_train))\n",
    "x_sgd_results_reg_df[\"max_svd_error\"] = abs(1- (x_sgd_results_reg_df[\"Max_SVD\"]/max_svd_X_train))\n",
    "x_sgd_results_reg_df['sketching_error'] = x_sgd_results_reg_df[[\"min_svd_error\", \"max_svd_error\"]].max(axis=1)\n",
    "x_sgd_results_reg_df[\"inv_squared_sketching_error\"] = 1 / (x_sgd_results_reg_df[\"sketching_error\"] ** 2)\n",
    "x_sgd_results_reg_df.head()"
   ]
  },
  {
   "cell_type": "markdown",
   "metadata": {},
   "source": [
    "#### Average performance"
   ]
  },
  {
   "cell_type": "markdown",
   "metadata": {},
   "source": [
    "##### non regularisation sketch"
   ]
  },
  {
   "cell_type": "code",
   "execution_count": 220,
   "metadata": {},
   "outputs": [
    {
     "data": {
      "text/plain": [
       "0                                7.401593\n",
       "1                               17.636139\n",
       "2                                0.281466\n",
       "3                                0.822215\n",
       "4                                0.563802\n",
       "intercept                       55.245430\n",
       "Min_SVD                         85.589362\n",
       "Max_SVD                         93.011757\n",
       "mse                              4.092222\n",
       "distance                         0.094514\n",
       "min_svd_error                    0.029664\n",
       "max_svd_error                    0.027826\n",
       "sketching_error                  0.033671\n",
       "inv_squared_sketching_error    956.891803\n",
       "dtype: float64"
      ]
     },
     "execution_count": 220,
     "metadata": {},
     "output_type": "execute_result"
    }
   ],
   "source": [
    "temp = x_sgd_sketch_results_df.drop(columns = \"x_array\")\n",
    "sketch_average = temp.mean()\n",
    "sketch_average"
   ]
  },
  {
   "cell_type": "markdown",
   "metadata": {},
   "source": [
    "##### regularisation sketch"
   ]
  },
  {
   "cell_type": "code",
   "execution_count": 221,
   "metadata": {},
   "outputs": [
    {
     "data": {
      "text/plain": [
       "0                                7.360354\n",
       "1                               17.628757\n",
       "2                                0.290641\n",
       "3                                0.813864\n",
       "4                                0.548638\n",
       "intercept                       55.240306\n",
       "Min_SVD                         85.080355\n",
       "Max_SVD                         93.246249\n",
       "mse                              4.092216\n",
       "distance                         0.081595\n",
       "min_svd_error                    0.035435\n",
       "max_svd_error                    0.030417\n",
       "sketching_error                  0.039732\n",
       "inv_squared_sketching_error    732.498225\n",
       "dtype: float64"
      ]
     },
     "execution_count": 221,
     "metadata": {},
     "output_type": "execute_result"
    }
   ],
   "source": [
    "temp = x_sgd_results_reg_df.drop(columns = \"x_array\")\n",
    "sketch_average = temp.mean()\n",
    "sketch_average"
   ]
  },
  {
   "cell_type": "markdown",
   "metadata": {},
   "source": [
    "# Comparing computational cost in term of time"
   ]
  },
  {
   "cell_type": "markdown",
   "metadata": {},
   "source": [
    "## Edit function as no longer require svd computation"
   ]
  },
  {
   "cell_type": "markdown",
   "metadata": {},
   "source": [
    "### non regularisation with sketch and intercept"
   ]
  },
  {
   "cell_type": "code",
   "execution_count": 256,
   "metadata": {},
   "outputs": [],
   "source": [
    "def fast_least_squares_sgd_with_intercept_nosvd(A, b, non_zero_entries, m, T=100, eta=0.01, gamma=0.1, batch_size=10):\n",
    "    n, d = A.shape\n",
    "    A = np.c_[np.ones(n), A] #for intercept\n",
    "    \n",
    "    # Step 1: Generate the sketch matrix S using the sketch_matrix function\n",
    "    S = sketch_matrix(m, n, non_zero_entries)\n",
    "    # Step 2: Compute SA and Sb\n",
    "    SA = S @ A\n",
    "    Sb = S @ b\n",
    "\n",
    "    # Step 3: Compute QR decomposition of SA\n",
    "    _, R_inv = np.linalg.qr(SA)\n",
    "    R = np.linalg.inv(R_inv)\n",
    "\n",
    "    # Step 4: Compute leverage score estimates\n",
    "    leverage_scores = estimate_leverage_scores(A, R, gamma)\n",
    "    leverage_probs = leverage_scores / np.sum(leverage_scores)  # Normalize\n",
    "\n",
    "    # Step 5: Compute initial x0 by solving (SAx = Sb)\n",
    "    x = np.linalg.lstsq(SA, Sb, rcond=None)[0]\n",
    "\n",
    "    # Step 6: Perform mini-batch SGD\n",
    "    for t in range(T):\n",
    "        # Step 6.1: Sample batch indices based on leverage scores\n",
    "        batch_indices = np.random.choice(n, size=batch_size, p=leverage_probs)\n",
    "        \n",
    "        # Step 6.2: Construct StA and Stb for mini-batch\n",
    "        StA = A[batch_indices]\n",
    "        Stb = b[batch_indices]\n",
    "\n",
    "        # Step 6.3: Compute gradient of the least squares loss\n",
    "        gt = 2 * StA.T @ (StA @ x - Stb)\n",
    "\n",
    "        # Step 6.4: Update x using preconditioned gradient\n",
    "        x = x - eta * R @ (R.T @ gt)\n",
    "\n",
    "    return x[1:],x[0]"
   ]
  },
  {
   "cell_type": "markdown",
   "metadata": {},
   "source": [
    "### Regularisation sketch with intercept"
   ]
  },
  {
   "cell_type": "code",
   "execution_count": 230,
   "metadata": {},
   "outputs": [],
   "source": [
    "def fast_least_squares_sgd_regularized_with_intercept_nosvd(A, b, non_zero_entries, m, lambda_reg, T=100, eta=0.01, gamma=0.1, batch_size=10):\n",
    "    n, d = A.shape\n",
    "    A = np.c_[np.ones(n), A] #for intercept \n",
    "    d += 1\n",
    "\n",
    "    # Step 1: Compute effective dimension and scaled regularization λ'\n",
    "    d_lambda = compute_effective_dimension(A, lambda_reg)\n",
    "    lambda_scaled = lambda_reg * (1 - d_lambda / m)\n",
    "\n",
    "    # Step 2: Generate sketch matrix\n",
    "    S = sketch_matrix(m, n, non_zero_entries)\n",
    "    \n",
    "    # Step 3: Compute SA and Sb\n",
    "    SA = S @ A\n",
    "    Sb = S @ b\n",
    "\n",
    "    # Step 4: Compute QR decomposition of SA\n",
    "    Q, R_inv = np.linalg.qr(SA)\n",
    "    R = np.linalg.inv(R_inv)\n",
    "\n",
    "    # Step 5: Compute leverage scores\n",
    "    leverage_scores = estimate_leverage_scores(A, R, gamma)\n",
    "    leverage_probs = leverage_scores / np.sum(leverage_scores)  # Normalize\n",
    "\n",
    "    # Step 6: Solve for initial x0 using regularized least squares\n",
    "    I_d = np.eye(d)\n",
    "    x = np.linalg.solve(SA.T @ SA + lambda_scaled * I_d, SA.T @ Sb)\n",
    "\n",
    "    # Step 7: Perform mini-batch SGD\n",
    "    for t in range(T):\n",
    "        # Sample batch indices based on leverage scores\n",
    "        batch_indices = np.random.choice(n, size=batch_size, p=leverage_probs)\n",
    "        \n",
    "        # Construct StA and Stb for mini-batch\n",
    "        StA = A[batch_indices]\n",
    "        Stb = b[batch_indices]\n",
    "\n",
    "        # Compute gradient with regularization\n",
    "        gt = 2 * (StA.T @ (StA @ x - Stb) + lambda_scaled * x)\n",
    "\n",
    "        # Update x using preconditioned gradient\n",
    "        x = x - eta * R @ (R.T @ gt)\n",
    "\n",
    "    return x[1:],x[0] , lambda_scaled"
   ]
  },
  {
   "cell_type": "markdown",
   "metadata": {},
   "source": [
    "## Time comparison"
   ]
  },
  {
   "cell_type": "code",
   "execution_count": 253,
   "metadata": {},
   "outputs": [
    {
     "name": "stdout",
     "output_type": "stream",
     "text": [
      "500\n",
      "3\n"
     ]
    }
   ],
   "source": [
    "m = 500\n",
    "print(m) \n",
    "non_zero_entries = 3\n",
    "print(non_zero_entries)"
   ]
  },
  {
   "cell_type": "markdown",
   "metadata": {},
   "source": [
    "### regular OLS non sketched"
   ]
  },
  {
   "cell_type": "code",
   "execution_count": 248,
   "metadata": {},
   "outputs": [],
   "source": [
    "iterations = 1000\n",
    "results = []\n",
    "\n",
    "for i in range(iterations):\n",
    "    start_time = time.time()\n",
    "    x_ols, _, _, _ = np.linalg.lstsq(X_train_with_intercept, y_train, rcond=None)\n",
    "    end_time = time.time()\n",
    "    iteration_time = end_time - start_time\n",
    "    \n",
    "    results.append({'iteration': i, 'time': iteration_time})\n",
    "\n",
    "# Create a new DataFrame with the results\n",
    "time_OLS_df = pd.DataFrame(results)"
   ]
  },
  {
   "cell_type": "code",
   "execution_count": 249,
   "metadata": {},
   "outputs": [
    {
     "data": {
      "text/html": [
       "<div>\n",
       "<style scoped>\n",
       "    .dataframe tbody tr th:only-of-type {\n",
       "        vertical-align: middle;\n",
       "    }\n",
       "\n",
       "    .dataframe tbody tr th {\n",
       "        vertical-align: top;\n",
       "    }\n",
       "\n",
       "    .dataframe thead th {\n",
       "        text-align: right;\n",
       "    }\n",
       "</style>\n",
       "<table border=\"1\" class=\"dataframe\">\n",
       "  <thead>\n",
       "    <tr style=\"text-align: right;\">\n",
       "      <th></th>\n",
       "      <th>iteration</th>\n",
       "      <th>time</th>\n",
       "    </tr>\n",
       "  </thead>\n",
       "  <tbody>\n",
       "    <tr>\n",
       "      <th>0</th>\n",
       "      <td>0</td>\n",
       "      <td>0.000996</td>\n",
       "    </tr>\n",
       "    <tr>\n",
       "      <th>1</th>\n",
       "      <td>1</td>\n",
       "      <td>0.000000</td>\n",
       "    </tr>\n",
       "    <tr>\n",
       "      <th>2</th>\n",
       "      <td>2</td>\n",
       "      <td>0.001001</td>\n",
       "    </tr>\n",
       "    <tr>\n",
       "      <th>3</th>\n",
       "      <td>3</td>\n",
       "      <td>0.000000</td>\n",
       "    </tr>\n",
       "    <tr>\n",
       "      <th>4</th>\n",
       "      <td>4</td>\n",
       "      <td>0.001000</td>\n",
       "    </tr>\n",
       "  </tbody>\n",
       "</table>\n",
       "</div>"
      ],
      "text/plain": [
       "   iteration      time\n",
       "0          0  0.000996\n",
       "1          1  0.000000\n",
       "2          2  0.001001\n",
       "3          3  0.000000\n",
       "4          4  0.001000"
      ]
     },
     "execution_count": 249,
     "metadata": {},
     "output_type": "execute_result"
    }
   ],
   "source": [
    "time_OLS_df.head()"
   ]
  },
  {
   "cell_type": "code",
   "execution_count": 250,
   "metadata": {},
   "outputs": [
    {
     "data": {
      "text/plain": [
       "0.3450648784637451"
      ]
     },
     "execution_count": 250,
     "metadata": {},
     "output_type": "execute_result"
    }
   ],
   "source": [
    "OLS_total_time = time_OLS_df['time'].sum()\n",
    "OLS_total_time"
   ]
  },
  {
   "cell_type": "markdown",
   "metadata": {},
   "source": [
    "### OLS sketched"
   ]
  },
  {
   "cell_type": "code",
   "execution_count": 257,
   "metadata": {},
   "outputs": [],
   "source": [
    "iterations = 1\n",
    "results = []\n",
    "\n",
    "for i in range(iterations):\n",
    "    start_time = time.time()\n",
    "    x_ols, _ = fast_least_squares_sgd_with_intercept_nosvd(X_train, y_train, non_zero_entries, m)\n",
    "    end_time = time.time()\n",
    "    iteration_time = end_time - start_time\n",
    "    \n",
    "    results.append({'iteration': i, 'time': iteration_time})\n",
    "\n",
    "# Create a new DataFrame with the results\n",
    "time_OLS_sketch_df = pd.DataFrame(results)"
   ]
  },
  {
   "cell_type": "code",
   "execution_count": 258,
   "metadata": {},
   "outputs": [
    {
     "data": {
      "text/html": [
       "<div>\n",
       "<style scoped>\n",
       "    .dataframe tbody tr th:only-of-type {\n",
       "        vertical-align: middle;\n",
       "    }\n",
       "\n",
       "    .dataframe tbody tr th {\n",
       "        vertical-align: top;\n",
       "    }\n",
       "\n",
       "    .dataframe thead th {\n",
       "        text-align: right;\n",
       "    }\n",
       "</style>\n",
       "<table border=\"1\" class=\"dataframe\">\n",
       "  <thead>\n",
       "    <tr style=\"text-align: right;\">\n",
       "      <th></th>\n",
       "      <th>iteration</th>\n",
       "      <th>time</th>\n",
       "    </tr>\n",
       "  </thead>\n",
       "  <tbody>\n",
       "    <tr>\n",
       "      <th>0</th>\n",
       "      <td>0</td>\n",
       "      <td>0.335566</td>\n",
       "    </tr>\n",
       "  </tbody>\n",
       "</table>\n",
       "</div>"
      ],
      "text/plain": [
       "   iteration      time\n",
       "0          0  0.335566"
      ]
     },
     "execution_count": 258,
     "metadata": {},
     "output_type": "execute_result"
    }
   ],
   "source": [
    "time_OLS_sketch_df.head()"
   ]
  }
 ],
 "metadata": {
  "kernelspec": {
   "display_name": "Python 3",
   "language": "python",
   "name": "python3"
  },
  "language_info": {
   "codemirror_mode": {
    "name": "ipython",
    "version": 3
   },
   "file_extension": ".py",
   "mimetype": "text/x-python",
   "name": "python",
   "nbconvert_exporter": "python",
   "pygments_lexer": "ipython3",
   "version": "3.10.0"
  }
 },
 "nbformat": 4,
 "nbformat_minor": 2
}
