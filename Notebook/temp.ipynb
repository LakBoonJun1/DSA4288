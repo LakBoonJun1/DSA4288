{
 "cells": [
  {
   "cell_type": "code",
   "execution_count": 2,
   "metadata": {},
   "outputs": [],
   "source": [
    "#packages\n",
    "import numpy as np\n",
    "import pandas as pd\n",
    "import time\n",
    "import seaborn as sns\n",
    "import matplotlib.pyplot as plt\n",
    "from scipy.linalg import qr\n",
    "from scipy.sparse import csr_matrix, coo_matrix\n",
    "from sklearn.preprocessing import StandardScaler, OneHotEncoder\n",
    "from sklearn.compose import ColumnTransformer\n",
    "from sklearn.pipeline import Pipeline\n",
    "from sklearn.model_selection import train_test_split\n",
    "from sklearn.linear_model import LinearRegression\n",
    "from sklearn.metrics import mean_squared_error, r2_score\n",
    "from sklearn.linear_model import Ridge\n",
    "from sklearn.linear_model import SGDRegressor\n",
    "from scipy.linalg import lstsq"
   ]
  },
  {
   "cell_type": "code",
   "execution_count": 3,
   "metadata": {},
   "outputs": [],
   "source": [
    "def fast_sketch_matrix(m, n_columns):\n",
    "    row_indices = np.random.randint(0, m, size=n_columns)  # Pick one random row per column\n",
    "    col_indices = np.arange(n_columns)  # Each column gets one entry\n",
    "    values = np.random.choice([1, -1], size=n_columns)  # ±1 values\n",
    "\n",
    "    # Directly construct the sparse matrix\n",
    "    S = csr_matrix((values, (row_indices, col_indices)), shape=(m, n_columns))\n",
    "\n",
    "    return S"
   ]
  },
  {
   "cell_type": "code",
   "execution_count": 4,
   "metadata": {},
   "outputs": [],
   "source": [
    "#Higher leverage scores indicate more influential data points.\n",
    "def estimate_leverage_scores(A, R, gamma):\n",
    "    n, d = A.shape\n",
    "    k = int(np.ceil(d / gamma))  # Choose k based on γ\n",
    "    G = np.random.randn(d, k) / np.sqrt(k) #scale the matrix\n",
    "    ARG = A @ (R @ G)\n",
    "    leverage_scores = np.sum(ARG ** 2, axis=1)\n",
    "    \n",
    "    return leverage_scores\n"
   ]
  },
  {
   "cell_type": "code",
   "execution_count": 7,
   "metadata": {},
   "outputs": [],
   "source": [
    "def ill_conditioned_matrix(n, d, condition_number=1e10):\n",
    "    # Generate a random matrix using SVD decomposition\n",
    "    U, _ , Vt = np.linalg.svd(np.random.randn(n, d), full_matrices=False)\n",
    "    \n",
    "    # Create singular values that decay exponentially\n",
    "    singular_values = np.geomspace(1, 1 / condition_number, num=d)\n",
    "    \n",
    "    # Construct ill-conditioned matrix\n",
    "    A = U @ np.diag(singular_values) @ Vt\n",
    "    \n",
    "    # Generate a true solution\n",
    "    x_true = np.random.randn(d)\n",
    "    \n",
    "    # Generate noisy observations\n",
    "    b = A @ x_true + 0.01 * np.random.randn(n)  # Small noise\n",
    "    \n",
    "    return A, b, x_true"
   ]
  },
  {
   "cell_type": "code",
   "execution_count": 89,
   "metadata": {},
   "outputs": [],
   "source": [
    "n = 100000  # Number of samples\n",
    "d = 300   # Number of features\n",
    "\n",
    "# Generate an ill-conditioned matrix\n",
    "U = np.random.randn(n, d)\n",
    "s = np.logspace(-1, -10, d)  # Exponentially decreasing singular values\n",
    "V = np.random.randn(d, d)\n",
    "X = U @ np.diag(s) @ V.T\n",
    "\n",
    "# Generate true parameters and target values\n",
    "true_params = np.random.randn(d, 1)\n",
    "y = X @ true_params + np.random.normal(0, 0.1, (n, 1))"
   ]
  },
  {
   "cell_type": "code",
   "execution_count": 90,
   "metadata": {},
   "outputs": [],
   "source": [
    "X_train, X_test, y_train, y_test = train_test_split(X, y, test_size=0.2, random_state=42)"
   ]
  },
  {
   "cell_type": "code",
   "execution_count": 110,
   "metadata": {},
   "outputs": [],
   "source": [
    "def fast_least_squares_sgd_analysis(A, b, m, T=10000, eta=0.01, gamma=0.1, batch_size=10):\n",
    "    start_total_time = time.perf_counter()\n",
    "    n, d = A.shape\n",
    "    A = np.c_[np.ones(n), A] #for intercept\n",
    "    iteration_times = []\n",
    "    \n",
    "    # Start timing for sketching\n",
    "    sketch_start_time = time.perf_counter()\n",
    "    # Step 1: Generate the sketch matrix S using the sketch_matrix function\n",
    "    S = fast_sketch_matrix(m, n)\n",
    "\n",
    "\n",
    "    # Step 2: Compute SA and Sb\n",
    "    SA = S @ A\n",
    "    Sb = S @ b\n",
    "\n",
    "    sketching_time = time.perf_counter() - sketch_start_time\n",
    "\n",
    "    # Step 3: Compute QR decomposition of SA\n",
    "    qr_start = time.perf_counter()\n",
    "    Q, R_inv = np.linalg.qr(SA)\n",
    "    R = np.linalg.inv(R_inv)\n",
    "    QR_decomposition_time = time.perf_counter() - qr_start\n",
    "\n",
    "    # Step 4: Compute leverage score estimates\n",
    "    leverage_start = time.perf_counter()\n",
    "    leverage_scores = estimate_leverage_scores(A, R, gamma)\n",
    "    leverage_probs = leverage_scores / np.sum(leverage_scores)  # Normalize\n",
    "    leverage_end = time.perf_counter() - leverage_start\n",
    "    print(leverage_end)\n",
    "    \n",
    "    x = np.random.randn(d + 1,1)\n",
    "\n",
    "    # Step 6: Perform mini-batch SGD\n",
    "    for t in range(T):\n",
    "        iter_start = time.perf_counter()\n",
    "        # Step 6.1: Sample batch indices based on leverage scores\n",
    "        batch_indices = np.random.choice(n, size=batch_size, p=leverage_probs)\n",
    "        \n",
    "        # Step 6.2: Construct StA and Stb for mini-batch\n",
    "        StA = A[batch_indices]\n",
    "        Stb = b[batch_indices]\n",
    "\n",
    "        # Step 6.3: Compute gradient of the least squares loss\n",
    "        gt = 2 * StA.T @ (StA @ x - Stb)\n",
    "\n",
    "        # Step 6.4: Update x using preconditioned gradient\n",
    "        x = x - eta * R @ (R.T @ gt)\n",
    "        iteration_times.append(time.perf_counter() - iter_start)\n",
    "        print(iteration_times)\n",
    "\n",
    "        if np.linalg.norm(gt) < 1e-3:  # Early stopping criterion\n",
    "            break\n",
    "    total_time = time.perf_counter() - start_total_time\n",
    "\n",
    "    return x[1:],x[0],QR_decomposition_time ,iteration_times, sketching_time , total_time"
   ]
  },
  {
   "cell_type": "code",
   "execution_count": 109,
   "metadata": {},
   "outputs": [],
   "source": [
    "def fast_least_squares_sgd_with_intercept_no_sketch(A, b, T=10000, eta=0.01, gamma=0.1, batch_size=10):\n",
    "    start_total_time = time.perf_counter()\n",
    "    n, d = A.shape\n",
    "    A = np.c_[np.ones(n), A]  # for intercept\n",
    "    d += 1\n",
    "    iteration_times = []\n",
    "\n",
    "    # Step 1: Compute QR decomposition of A\n",
    "    start_time = time.time()\n",
    "    Q, R_inv = np.linalg.qr(A)\n",
    "    R = np.linalg.inv(R_inv)\n",
    "    QR_decomposition_time = time.time() - start_time\n",
    "\n",
    "    # Step 2: Compute leverage score estimates\n",
    "    leverage_scores = estimate_leverage_scores(A, R, gamma)\n",
    "    leverage_probs = leverage_scores / np.sum(leverage_scores)  # Normalize\n",
    "\n",
    "    # Step 3: Compute initial x0 by solving (Ax = b)\n",
    "    x = np.random.randn(d,1)\n",
    "\n",
    "    # Step 4: Perform mini-batch SGD\n",
    "    for t in range(T):\n",
    "        iter_start = time.perf_counter()\n",
    "        # Step 4.1: Sample batch indices based on leverage scores\n",
    "        batch_indices = np.random.choice(n, size=batch_size, p=leverage_probs)\n",
    "        \n",
    "        # Step 4.2: Construct StA and Stb for mini-batch\n",
    "        StA = A[batch_indices]\n",
    "        Stb = b[batch_indices]\n",
    "\n",
    "        # Step 4.3: Compute gradient of the least squares loss\n",
    "        gt = 2 * StA.T @ (StA @ x - Stb)\n",
    "\n",
    "        # Step 4.4: Update x using preconditioned gradient\n",
    "        x = x - eta * R @ (R.T @ gt)\n",
    "        iteration_times.append(time.perf_counter() - iter_start)\n",
    "\n",
    "        if np.linalg.norm(gt) < 1e-3:  # Early stopping criterion\n",
    "            break\n",
    "    total_time = time.perf_counter() - start_total_time\n",
    "\n",
    "    return x[1:], x[0], QR_decomposition_time , iteration_times, total_time"
   ]
  },
  {
   "cell_type": "code",
   "execution_count": null,
   "metadata": {},
   "outputs": [],
   "source": [
    "iterations = 1\n",
    "results = []\n",
    "m = 5000\n",
    "\n",
    "for i in range(iterations):\n",
    "    x_estimate , intercept, qr_time, mini_batch_time, sketching_time ,total_time = fast_least_squares_sgd_analysis(X_train,y_train,m)\n",
    "    mse = np.mean(((X_test @ x_estimate) + intercept - y_test)**2)\n",
    "    results.append({'total time': total_time,'QR_time' : qr_time, 'mini batch time' : mini_batch_time ,'Sketching time' : sketching_time , 'x_estimate' : x_estimate, 'intercept' : intercept, 'mse' : mse})\n",
    "\n",
    "ill_fast_sketched_SGD_df = pd.DataFrame(results)\n"
   ]
  },
  {
   "cell_type": "code",
   "execution_count": 104,
   "metadata": {},
   "outputs": [
    {
     "data": {
      "text/html": [
       "<div>\n",
       "<style scoped>\n",
       "    .dataframe tbody tr th:only-of-type {\n",
       "        vertical-align: middle;\n",
       "    }\n",
       "\n",
       "    .dataframe tbody tr th {\n",
       "        vertical-align: top;\n",
       "    }\n",
       "\n",
       "    .dataframe thead th {\n",
       "        text-align: right;\n",
       "    }\n",
       "</style>\n",
       "<table border=\"1\" class=\"dataframe\">\n",
       "  <thead>\n",
       "    <tr style=\"text-align: right;\">\n",
       "      <th></th>\n",
       "      <th>total time</th>\n",
       "      <th>QR_time</th>\n",
       "      <th>mini batch time</th>\n",
       "      <th>Sketching time</th>\n",
       "      <th>x_estimate</th>\n",
       "      <th>intercept</th>\n",
       "      <th>mse</th>\n",
       "    </tr>\n",
       "  </thead>\n",
       "  <tbody>\n",
       "    <tr>\n",
       "      <th>0</th>\n",
       "      <td>2.690288</td>\n",
       "      <td>0.124412</td>\n",
       "      <td>[0.0021176000591367483, 0.0011691998224705458,...</td>\n",
       "      <td>0.030519</td>\n",
       "      <td>[[36775.99706230154], [-7841.8027785017075], [...</td>\n",
       "      <td>[-0.7810871587903552]</td>\n",
       "      <td>69.292882</td>\n",
       "    </tr>\n",
       "  </tbody>\n",
       "</table>\n",
       "</div>"
      ],
      "text/plain": [
       "   total time   QR_time                                    mini batch time  \\\n",
       "0    2.690288  0.124412  [0.0021176000591367483, 0.0011691998224705458,...   \n",
       "\n",
       "   Sketching time                                         x_estimate  \\\n",
       "0        0.030519  [[36775.99706230154], [-7841.8027785017075], [...   \n",
       "\n",
       "               intercept        mse  \n",
       "0  [-0.7810871587903552]  69.292882  "
      ]
     },
     "execution_count": 104,
     "metadata": {},
     "output_type": "execute_result"
    }
   ],
   "source": [
    "ill_fast_sketched_SGD_df"
   ]
  },
  {
   "cell_type": "code",
   "execution_count": 94,
   "metadata": {},
   "outputs": [
    {
     "data": {
      "text/plain": [
       "0    100\n",
       "Name: mini batch time, dtype: int64"
      ]
     },
     "execution_count": 94,
     "metadata": {},
     "output_type": "execute_result"
    }
   ],
   "source": [
    "ill_fast_sketched_SGD_df[\"mini batch time\"].apply(len)"
   ]
  },
  {
   "cell_type": "code",
   "execution_count": 95,
   "metadata": {},
   "outputs": [],
   "source": [
    "iterations = 1\n",
    "results = []\n",
    "\n",
    "for i in range(iterations):\n",
    "    start_time = time.time()\n",
    "    x_estimate, _, _ , _ = np.linalg.lstsq(X_train, y_train, rcond=None)\n",
    "    end_time = time.time()\n",
    "    mse = np.mean(((X_test @ x_estimate) - y_test)**2)\n",
    "    iteration_time = end_time - start_time\n",
    "    \n",
    "    results.append({'time': iteration_time, 'x_estimate' : x_estimate, 'mse' : mse})\n",
    "ill_non_sketch_nplstq_df = pd.DataFrame(results)"
   ]
  },
  {
   "cell_type": "code",
   "execution_count": 96,
   "metadata": {},
   "outputs": [
    {
     "data": {
      "text/html": [
       "<div>\n",
       "<style scoped>\n",
       "    .dataframe tbody tr th:only-of-type {\n",
       "        vertical-align: middle;\n",
       "    }\n",
       "\n",
       "    .dataframe tbody tr th {\n",
       "        vertical-align: top;\n",
       "    }\n",
       "\n",
       "    .dataframe thead th {\n",
       "        text-align: right;\n",
       "    }\n",
       "</style>\n",
       "<table border=\"1\" class=\"dataframe\">\n",
       "  <thead>\n",
       "    <tr style=\"text-align: right;\">\n",
       "      <th></th>\n",
       "      <th>time</th>\n",
       "      <th>x_estimate</th>\n",
       "      <th>mse</th>\n",
       "    </tr>\n",
       "  </thead>\n",
       "  <tbody>\n",
       "    <tr>\n",
       "      <th>0</th>\n",
       "      <td>1.401599</td>\n",
       "      <td>[[223529.66069337373], [167.416248352587], [-1...</td>\n",
       "      <td>0.010052</td>\n",
       "    </tr>\n",
       "  </tbody>\n",
       "</table>\n",
       "</div>"
      ],
      "text/plain": [
       "       time                                         x_estimate       mse\n",
       "0  1.401599  [[223529.66069337373], [167.416248352587], [-1...  0.010052"
      ]
     },
     "execution_count": 96,
     "metadata": {},
     "output_type": "execute_result"
    }
   ],
   "source": [
    "ill_non_sketch_nplstq_df"
   ]
  },
  {
   "cell_type": "code",
   "execution_count": 107,
   "metadata": {},
   "outputs": [],
   "source": [
    "iterations = 1\n",
    "results = []\n",
    "m = 3000\n",
    "\n",
    "for i in range(iterations):\n",
    "    x_estimate , intercept, qr_time, mini_batch_time ,total_time = fast_least_squares_sgd_with_intercept_no_sketch(X_train , y_train)\n",
    "    mse = np.mean(((X_test @ x_estimate) + intercept - y_test)**2)\n",
    "    results.append({'total time': total_time,'QR_time' : qr_time, 'mini batch time' : mini_batch_time ,'Sketching time' : sketching_time , 'x_estimate' : x_estimate, 'intercept' : intercept, 'mse' : mse})\n",
    "\n",
    "ill_fast_non_sketched_SGD_df = pd.DataFrame(results)"
   ]
  },
  {
   "cell_type": "code",
   "execution_count": 108,
   "metadata": {},
   "outputs": [
    {
     "data": {
      "text/html": [
       "<div>\n",
       "<style scoped>\n",
       "    .dataframe tbody tr th:only-of-type {\n",
       "        vertical-align: middle;\n",
       "    }\n",
       "\n",
       "    .dataframe tbody tr th {\n",
       "        vertical-align: top;\n",
       "    }\n",
       "\n",
       "    .dataframe thead th {\n",
       "        text-align: right;\n",
       "    }\n",
       "</style>\n",
       "<table border=\"1\" class=\"dataframe\">\n",
       "  <thead>\n",
       "    <tr style=\"text-align: right;\">\n",
       "      <th></th>\n",
       "      <th>total time</th>\n",
       "      <th>QR_time</th>\n",
       "      <th>mini batch time</th>\n",
       "      <th>Sketching time</th>\n",
       "      <th>x_estimate</th>\n",
       "      <th>intercept</th>\n",
       "      <th>mse</th>\n",
       "    </tr>\n",
       "  </thead>\n",
       "  <tbody>\n",
       "    <tr>\n",
       "      <th>0</th>\n",
       "      <td>4.936535</td>\n",
       "      <td>2.529799</td>\n",
       "      <td>[0.001753099961206317, 0.0016756998375058174, ...</td>\n",
       "      <td>0.030519</td>\n",
       "      <td>[[1048.3671892516766], [97093.84475151525], [-...</td>\n",
       "      <td>[-0.5521399385493451]</td>\n",
       "      <td>38.20835</td>\n",
       "    </tr>\n",
       "  </tbody>\n",
       "</table>\n",
       "</div>"
      ],
      "text/plain": [
       "   total time   QR_time                                    mini batch time  \\\n",
       "0    4.936535  2.529799  [0.001753099961206317, 0.0016756998375058174, ...   \n",
       "\n",
       "   Sketching time                                         x_estimate  \\\n",
       "0        0.030519  [[1048.3671892516766], [97093.84475151525], [-...   \n",
       "\n",
       "               intercept       mse  \n",
       "0  [-0.5521399385493451]  38.20835  "
      ]
     },
     "execution_count": 108,
     "metadata": {},
     "output_type": "execute_result"
    }
   ],
   "source": [
    "ill_fast_non_sketched_SGD_df"
   ]
  }
 ],
 "metadata": {
  "kernelspec": {
   "display_name": "Python 3",
   "language": "python",
   "name": "python3"
  },
  "language_info": {
   "codemirror_mode": {
    "name": "ipython",
    "version": 3
   },
   "file_extension": ".py",
   "mimetype": "text/x-python",
   "name": "python",
   "nbconvert_exporter": "python",
   "pygments_lexer": "ipython3",
   "version": "3.10.0"
  }
 },
 "nbformat": 4,
 "nbformat_minor": 2
}
