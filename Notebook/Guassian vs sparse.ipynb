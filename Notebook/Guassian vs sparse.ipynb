{
 "cells": [
  {
   "cell_type": "code",
   "execution_count": 2,
   "metadata": {},
   "outputs": [],
   "source": [
    "#packages\n",
    "import numpy as np\n",
    "import pandas as pd\n",
    "import time\n",
    "import seaborn as sns\n",
    "import matplotlib.pyplot as plt\n",
    "from scipy.linalg import qr\n",
    "from scipy.sparse import csr_matrix, coo_matrix\n",
    "from sklearn.preprocessing import StandardScaler, OneHotEncoder\n",
    "from sklearn.compose import ColumnTransformer\n",
    "from sklearn.pipeline import Pipeline\n",
    "from sklearn.model_selection import train_test_split\n",
    "from sklearn.linear_model import LinearRegression\n",
    "from sklearn.metrics import mean_squared_error, r2_score\n",
    "from sklearn.linear_model import Ridge\n",
    "from sklearn.linear_model import SGDRegressor\n",
    "from scipy.linalg import lstsq"
   ]
  },
  {
   "cell_type": "code",
   "execution_count": 3,
   "metadata": {},
   "outputs": [],
   "source": [
    "def fast_sketch_matrix(m, n_columns):\n",
    "    row_indices = np.random.randint(0, m, size=n_columns)  # Pick one random row per column\n",
    "    col_indices = np.arange(n_columns)  # Each column gets one entry\n",
    "    values = np.random.choice([1, -1], size=n_columns)  # ±1 values\n",
    "\n",
    "    # Directly construct the sparse matrix\n",
    "    S = csr_matrix((values, (row_indices, col_indices)), shape=(m, n_columns))\n",
    "\n",
    "    return S"
   ]
  },
  {
   "cell_type": "code",
   "execution_count": 4,
   "metadata": {},
   "outputs": [],
   "source": [
    "def gaussian_sketch_matrix(m, n):\n",
    "    sketch_matrix = np.random.randn(m, n)\n",
    "    return sketch_matrix"
   ]
  },
  {
   "cell_type": "code",
   "execution_count": 5,
   "metadata": {},
   "outputs": [],
   "source": [
    "def sketch_matrix(m, n_columns, non_zero_entries):\n",
    "    #matrix with all zero entries\n",
    "    S = np.zeros((m, n_columns))\n",
    "    scaling_factor = 1 / np.sqrt(non_zero_entries)\n",
    "    \n",
    "    #loop through each columns to edit the non zero entries in\n",
    "    for col in range(n_columns):\n",
    "        # Randomly select position of non_zero entries\n",
    "        nz_positions = np.random.choice(m, non_zero_entries, replace=False)\n",
    "        \n",
    "        # Randomly assign values of either 1 or -1 to these positions\n",
    "        values = np.random.choice([1, -1], non_zero_entries)* scaling_factor\n",
    "        \n",
    "        # Assign the values to the selected positions in the column\n",
    "        for idx, value in zip(nz_positions, values):\n",
    "            S[idx, col] = value\n",
    "    \n",
    "    return S"
   ]
  },
  {
   "cell_type": "code",
   "execution_count": null,
   "metadata": {},
   "outputs": [],
   "source": []
  }
 ],
 "metadata": {
  "kernelspec": {
   "display_name": "Python 3",
   "language": "python",
   "name": "python3"
  },
  "language_info": {
   "codemirror_mode": {
    "name": "ipython",
    "version": 3
   },
   "file_extension": ".py",
   "mimetype": "text/x-python",
   "name": "python",
   "nbconvert_exporter": "python",
   "pygments_lexer": "ipython3",
   "version": "3.10.0"
  }
 },
 "nbformat": 4,
 "nbformat_minor": 2
}
